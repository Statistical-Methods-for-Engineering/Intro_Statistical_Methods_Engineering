{
 "cells": [
  {
   "cell_type": "markdown",
   "id": "07f906bd-811d-40ef-ae73-1d537ff6d6ac",
   "metadata": {
    "tags": []
   },
   "source": [
    "# TUTORIAL 2 EXERCISE"
   ]
  },
  {
   "cell_type": "markdown",
   "id": "81482ba9-e10d-4777-b8aa-349c67fb50a2",
   "metadata": {},
   "source": [
    "Alloys dataset: Import the Alloys_needs_data_cleaning dataset into your Python statistical software. This dataset comprises mechanical property information on American National Standards Institute (ANSI) steel and copper alloys utilized in machine design (170 alloys in total). The data was sourced from the Autodesk Material Library and obtained from Kaggle. \n",
    "\n",
    "The dataset includes key properties such as:\n",
    "•\tUltimate Tensile Strength (UTS) measured in MPa\n",
    "•\tYield Strength (YS) measured in MPa\n",
    "•\tElastic Modulus (E) measured in MPa\n",
    "•\tShear Modulus (G) measured in MPa\n",
    "•\tPoisson's Ratio (mu) measured in units of length\n",
    "•\tDensity (Ro) measured in Kg/m3 \n",
    "•\tThe final column distinguishes between the alloys (steel > Iron = 1, copper > Iron = 0).\n",
    "\n",
    "The variables that we will focus on is:\n",
    "•\tUTS (MPa)\n",
    "•\tYS (MPa)\n",
    "\n",
    "Review the dataset and inspect the data for data cleaning/data preprocessing.  \n"
   ]
  },
  {
   "cell_type": "markdown",
   "id": "46d326bb-0536-4599-b782-d9c22312a4d7",
   "metadata": {
    "tags": []
   },
   "source": [
    "# PART 1"
   ]
  },
  {
   "cell_type": "markdown",
   "id": "372695ce-b90e-46b6-a9a2-82afe253836f",
   "metadata": {
    "tags": []
   },
   "source": [
    "__Let’s first look for completeness.  For each column of data of interest, how many data values and data rows contain missing data? Briefly explain what you could do with these data values.  Now go ahead and delete the rows that have any missing values.__  "
   ]
  },
  {
   "cell_type": "markdown",
   "id": "8ebbd6f3-f411-4c9c-8d1b-ad130822e1e0",
   "metadata": {
    "tags": []
   },
   "source": [
    "Importing the relevant libraries! "
   ]
  },
  {
   "cell_type": "code",
   "execution_count": null,
   "id": "3636ae62-3977-449f-8495-fdae5f82d28c",
   "metadata": {},
   "outputs": [],
   "source": []
  },
  {
   "cell_type": "markdown",
   "id": "9b026e7c-b431-4a3c-8431-2beb9d03e265",
   "metadata": {},
   "source": [
    "Reading the data from the dataset"
   ]
  },
  {
   "cell_type": "code",
   "execution_count": null,
   "id": "5414c50f-2617-4a37-9fff-b65f2b5add99",
   "metadata": {},
   "outputs": [],
   "source": []
  },
  {
   "cell_type": "markdown",
   "id": "1b55a5cd-5eb5-43a9-8667-96998d57b0cc",
   "metadata": {},
   "source": [
    "Remove all the rows with Null Values"
   ]
  },
  {
   "cell_type": "code",
   "execution_count": null,
   "id": "2d905d60-cb5a-4db6-8c1c-db9c742b0db9",
   "metadata": {},
   "outputs": [],
   "source": []
  },
  {
   "cell_type": "markdown",
   "id": "712faa10-efd8-4dc7-9577-0ee65dd0edae",
   "metadata": {
    "tags": []
   },
   "source": [
    "# PART 2"
   ]
  },
  {
   "cell_type": "markdown",
   "id": "68353fc3-9853-43fa-879d-6ddc66d833ed",
   "metadata": {},
   "source": [
    "__Next, look for data-type validity.  Since we care about UTS and YS, let’s check that the data type matches what you would want the data to be used for in an analysis of mechanical properties.  What are the data types for UTS and YS in the dataset?  If the data type does not match what you want it to be, discuss what the data type is that you want and why, and the reasons that you find in the dataset for any datatype mismatch, and correct this.__   "
   ]
  },
  {
   "cell_type": "markdown",
   "id": "4563ea49-69ea-40cc-a26e-ba3e977ee616",
   "metadata": {},
   "source": [
    "Convert UTS values to numbers and convert text to NaN"
   ]
  },
  {
   "cell_type": "code",
   "execution_count": null,
   "id": "fa674409-ba1c-4e65-98c5-56d46a00bd6c",
   "metadata": {},
   "outputs": [],
   "source": []
  },
  {
   "cell_type": "markdown",
   "id": "f43502ad-fe3a-4af7-809c-2f112028ff4b",
   "metadata": {},
   "source": [
    "Dropping all the unwanted rows "
   ]
  },
  {
   "cell_type": "code",
   "execution_count": null,
   "id": "45d65103-1899-4dff-937a-016a4d8f881b",
   "metadata": {},
   "outputs": [],
   "source": []
  },
  {
   "cell_type": "markdown",
   "id": "066d996f-2f7c-4605-a48f-8c8e458b1238",
   "metadata": {},
   "source": [
    "Resetting the index"
   ]
  },
  {
   "cell_type": "code",
   "execution_count": null,
   "id": "033c2df9-2763-4bbc-ae76-462ad01750c2",
   "metadata": {},
   "outputs": [],
   "source": []
  },
  {
   "cell_type": "markdown",
   "id": "5e040179-825e-42eb-b036-1a89ed0050f5",
   "metadata": {
    "tags": []
   },
   "source": [
    "# Part 3"
   ]
  },
  {
   "cell_type": "markdown",
   "id": "b86097a9-8563-4b96-99ca-5a87ddabaed8",
   "metadata": {},
   "source": [
    "__Now look at data validity. What do you think the limits of plausible data would be for UTS and YS? Go ahead and clean the data based on deleting any nonsense values. Again, delete entire rows to end up with a clean dataset of complete data on UTS and YS.__"
   ]
  },
  {
   "cell_type": "markdown",
   "id": "47912273-e5cf-46da-b1ea-ff68ae0a7637",
   "metadata": {},
   "source": [
    "Separating data based on steel and copper alloys"
   ]
  },
  {
   "cell_type": "code",
   "execution_count": null,
   "id": "aa2dd8ec-b50d-4bc6-9eda-1c2d02b87028",
   "metadata": {},
   "outputs": [],
   "source": []
  },
  {
   "cell_type": "markdown",
   "id": "5c642699-8c50-4ea9-a37c-beeeeb0e5071",
   "metadata": {},
   "source": [
    "Removing outlier values for UTS and YS in steel data"
   ]
  },
  {
   "cell_type": "code",
   "execution_count": null,
   "id": "1d3d6dfb-2306-4b78-a345-635a836248e1",
   "metadata": {},
   "outputs": [],
   "source": []
  },
  {
   "cell_type": "markdown",
   "id": "f118b6bf-0840-4cf5-8a41-c4f07572782b",
   "metadata": {},
   "source": [
    "Removing outlier values for UTS and YS in copper data"
   ]
  },
  {
   "cell_type": "code",
   "execution_count": null,
   "id": "4b0228c6-6cbb-4d0a-8a0c-cfbaa9df02c4",
   "metadata": {},
   "outputs": [],
   "source": []
  },
  {
   "cell_type": "markdown",
   "id": "9244ffd9-a599-446b-8bdb-16ee14bd6e0c",
   "metadata": {},
   "source": [
    "Concatenating the cleaned steel and copper data"
   ]
  },
  {
   "cell_type": "code",
   "execution_count": null,
   "id": "372a6508-f037-4fbf-bb74-a03d3a315aa3",
   "metadata": {},
   "outputs": [],
   "source": []
  },
  {
   "cell_type": "markdown",
   "id": "d9a03e67-c667-40ae-a5de-441c0a2df76f",
   "metadata": {},
   "source": [
    "Printing information about the cleaned data"
   ]
  },
  {
   "cell_type": "code",
   "execution_count": null,
   "id": "31ab3eee-d9df-4c27-8081-b125415afc09",
   "metadata": {},
   "outputs": [],
   "source": []
  },
  {
   "cell_type": "markdown",
   "id": "b12a229e-a122-4d94-919a-730656073b6e",
   "metadata": {},
   "source": [
    "# Part 4"
   ]
  },
  {
   "cell_type": "markdown",
   "id": "0816c449-1cc7-4f26-b6c1-d210ac858bfd",
   "metadata": {},
   "source": [
    "__Choose a graph to represent UTS, YS, or UTS and YS and why you chose the visualization that you did. Show and discuss your graph(s).__"
   ]
  },
  {
   "cell_type": "markdown",
   "id": "9a442676-8c8e-4d92-9dbd-5cdfb65c158c",
   "metadata": {},
   "source": [
    "Creating a list of data values for each group"
   ]
  },
  {
   "cell_type": "code",
   "execution_count": null,
   "id": "440d40b8-a662-49d0-bf19-4991378a29f9",
   "metadata": {},
   "outputs": [],
   "source": []
  },
  {
   "cell_type": "markdown",
   "id": "4bc649c2-b363-4b11-8a09-27076b78e8e5",
   "metadata": {},
   "source": [
    "Creating labels for each group"
   ]
  },
  {
   "cell_type": "code",
   "execution_count": null,
   "id": "963fa6df-b650-4c96-bf78-d77f948a19fb",
   "metadata": {},
   "outputs": [],
   "source": []
  },
  {
   "cell_type": "markdown",
   "id": "e11bb17d-ac39-4ad0-8577-f0e8094b6bd3",
   "metadata": {},
   "source": [
    "Creating a boxplot"
   ]
  },
  {
   "cell_type": "code",
   "execution_count": null,
   "id": "abac5a14-2b26-475e-828a-585981259ae1",
   "metadata": {},
   "outputs": [],
   "source": []
  }
 ],
 "metadata": {
  "kernelspec": {
   "display_name": "Python 3 (ipykernel)",
   "language": "python",
   "name": "python3"
  },
  "language_info": {
   "codemirror_mode": {
    "name": "ipython",
    "version": 3
   },
   "file_extension": ".py",
   "mimetype": "text/x-python",
   "name": "python",
   "nbconvert_exporter": "python",
   "pygments_lexer": "ipython3",
   "version": "3.9.13"
  }
 },
 "nbformat": 4,
 "nbformat_minor": 5
}
