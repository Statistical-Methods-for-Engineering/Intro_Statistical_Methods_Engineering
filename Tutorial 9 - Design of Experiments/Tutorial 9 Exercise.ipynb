{
 "cells": [
  {
   "cell_type": "markdown",
   "id": "0e8f363f-39d7-411a-b2a5-3abc50ad9e60",
   "metadata": {},
   "source": [
    "# TUTORIAL 9 EXERCISE: DESIGN OF EXPERIMENTS"
   ]
  },
  {
   "cell_type": "code",
   "execution_count": null,
   "id": "99d0c48d-b27e-43ce-9e62-5bb64956474c",
   "metadata": {},
   "outputs": [],
   "source": [
    "import numpy as np\n",
    "import pandas as pd\n",
    "import matplotlib.pyplot as plt\n",
    "import scipy.stats\n",
    "from scipy import stats  \n",
    "import seaborn as sns\n",
    "import statsmodels.api as sm\n",
    "from statsmodels.formula.api import ols"
   ]
  },
  {
   "cell_type": "markdown",
   "id": "4ca2903f-ef8e-40b9-962e-adf07d9672fb",
   "metadata": {},
   "source": [
    "# Part C"
   ]
  },
  {
   "cell_type": "markdown",
   "id": "28b3e23a-3ab5-4626-9116-38ffdb8023c9",
   "metadata": {},
   "source": [
    "__Create the Matrices__"
   ]
  },
  {
   "cell_type": "code",
   "execution_count": null,
   "id": "b62f1cb0-8adf-4e60-ab34-59da3bdc9f5e",
   "metadata": {},
   "outputs": [],
   "source": []
  },
  {
   "cell_type": "markdown",
   "id": "96e3fecb-6acc-4167-b0bd-c3ff0a805121",
   "metadata": {},
   "source": [
    "__Concatenate the series. (Hint: Use the concat function)__"
   ]
  },
  {
   "cell_type": "code",
   "execution_count": null,
   "id": "71d10d01-3b69-4ef2-a87b-6e2553644ac2",
   "metadata": {},
   "outputs": [],
   "source": []
  },
  {
   "cell_type": "markdown",
   "id": "f61794e6-8084-48d5-b497-daec75f9184a",
   "metadata": {},
   "source": [
    "__Make Interaction Plots__"
   ]
  },
  {
   "cell_type": "code",
   "execution_count": null,
   "id": "ea98b990-6de9-4837-882f-63f9e3ba1070",
   "metadata": {},
   "outputs": [],
   "source": []
  },
  {
   "cell_type": "markdown",
   "id": "20ce0155-6b2f-41d9-9dcd-ee90c4b339c8",
   "metadata": {},
   "source": [
    "__Make the OLS Model__"
   ]
  },
  {
   "cell_type": "code",
   "execution_count": null,
   "id": "2946e738-5cab-4aef-94a0-2325bb47296d",
   "metadata": {},
   "outputs": [],
   "source": []
  },
  {
   "cell_type": "markdown",
   "id": "b335d0e3-7b6d-4e42-bf4d-928c2a16f718",
   "metadata": {},
   "source": [
    "# Part D"
   ]
  },
  {
   "cell_type": "markdown",
   "id": "715f5700-4b68-4e78-a340-c55130ab2f29",
   "metadata": {},
   "source": [
    "__Make the contour plot. Hint: Use the contourf function.__"
   ]
  },
  {
   "cell_type": "code",
   "execution_count": null,
   "id": "215085c0-e7bb-4f71-a5f7-6df2fb459c5c",
   "metadata": {},
   "outputs": [],
   "source": [
    "fig=plt.figure()\n",
    "ax=fig.add_subplot(111)\n",
    "\n",
    "#Generating the coordinates for x,y,z\n",
    "x1,x2,x3=INSERT MODEL NAME HERE.exog_names[1:]\n",
    "\n",
    "#x & y surface values go from -1 to 1, with 0.1 as the step\n",
    "x_surf=np.arange(-1,1,.1)\n",
    "y_surf=np.arange(-1,1,.1)\n",
    "\n",
    "#Meshgrid turns the two vectors into a matrix (grid)\n",
    "xS,yS=np.meshgrid(x_surf,y_surf)\n",
    "exog=pd.DataFrame({x1: xS.ravel(), x2:yS.ravel()})\n",
    "zS=INSERT RESULTS NAME HERE.predict(exog=exog).values.reshape(xS.shape)\n",
    "\n",
    "#Contourf plots the filled contours. It takes coordinates (x,y,z, cmap = the colour scheme)\n",
    "ContourA=ax.contourf(xS,yS,zS,cmap=\"coolwarm\")\n",
    "\n",
    "#colorbar adds the colorbar to the plot. Shrink refers to the size of the legend, aspect is the aspect ratio of x,y dimensions. \n",
    "fig.colorbar(ContourA,shrink=0.5, aspect=5)\n",
    "plt.xlabel(\"Soil\")\n",
    "plt.ylabel(\"Water\")"
   ]
  },
  {
   "cell_type": "code",
   "execution_count": null,
   "id": "be75cd35-53c2-4756-9ee1-15c42a5d5e41",
   "metadata": {},
   "outputs": [],
   "source": []
  }
 ],
 "metadata": {
  "kernelspec": {
   "display_name": "Python 3 (ipykernel)",
   "language": "python",
   "name": "python3"
  },
  "language_info": {
   "codemirror_mode": {
    "name": "ipython",
    "version": 3
   },
   "file_extension": ".py",
   "mimetype": "text/x-python",
   "name": "python",
   "nbconvert_exporter": "python",
   "pygments_lexer": "ipython3",
   "version": "3.9.13"
  }
 },
 "nbformat": 4,
 "nbformat_minor": 5
}
