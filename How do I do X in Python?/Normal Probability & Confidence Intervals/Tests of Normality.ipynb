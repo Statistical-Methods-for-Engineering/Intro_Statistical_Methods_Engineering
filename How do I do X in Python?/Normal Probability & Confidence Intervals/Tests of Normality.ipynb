{
 "cells": [
  {
   "cell_type": "markdown",
   "id": "bbc0cbed-33e5-47ae-8a34-5bcf22c7a56f",
   "metadata": {},
   "source": [
    "# Tests of Normality"
   ]
  },
  {
   "cell_type": "markdown",
   "id": "e26ced6b-1f47-48e3-ae8e-61e799d8643f",
   "metadata": {},
   "source": [
    "## Importing Relevant Libraries"
   ]
  },
  {
   "cell_type": "code",
   "execution_count": 1,
   "id": "4b7f969d-4abe-4ead-a876-e49b6d3974b8",
   "metadata": {},
   "outputs": [],
   "source": [
    "import numpy as np\n",
    "import pandas as pd\n",
    "\n",
    "#need scipy and the norm libraries in order to calculate the probability distribution function (pdf), cumulative distribution function (cdf) and ppf\n",
    "import scipy as sy\n",
    "from scipy.stats import norm\n"
   ]
  },
  {
   "cell_type": "code",
   "execution_count": 2,
   "id": "e92a534f-8862-47e0-b1af-7d499e78a6ca",
   "metadata": {},
   "outputs": [],
   "source": [
    "##Making a dataset\n",
    "#arange makes \"a range of data\" with the following inputs: (min value, max value, step)  \n",
    "x_B = np.arange(70,100,.01)\n",
    "\n",
    "#takes the data points from x_B and fits them to a pdf(dataframe,loc=mean,scale=stdev)\n",
    "normal_B=norm.pdf(x_B,loc=85,scale=4)"
   ]
  },
  {
   "cell_type": "markdown",
   "id": "b5840820-a844-43a9-a959-00a6ae3d141b",
   "metadata": {},
   "source": [
    "## Run normality tests"
   ]
  },
  {
   "cell_type": "markdown",
   "id": "6cf8c1ba-11f6-4a8a-97f2-9cad0e7c3375",
   "metadata": {},
   "source": [
    "## Normality Test (D'Agastino & Pearson's)\n",
    "It returns (z-score, p value). Combined measure of skew and kurtosis."
   ]
  },
  {
   "cell_type": "code",
   "execution_count": 3,
   "id": "536ac426-fb03-416a-9ce8-e21a11f9252e",
   "metadata": {},
   "outputs": [
    {
     "name": "stdout",
     "output_type": "stream",
     "text": [
      "NormaltestResult(statistic=2487.9550965307894, pvalue=0.0)\n"
     ]
    }
   ],
   "source": [
    "#Syntax for a normal test, using Pearson's\n",
    "print(sy.stats.normaltest(x_B))"
   ]
  },
  {
   "cell_type": "markdown",
   "id": "1117160e-b548-4d65-af6f-7924f27497ea",
   "metadata": {},
   "source": [
    "## Shapiro Test\n",
    "It returns (test statistic, p value)"
   ]
  },
  {
   "cell_type": "code",
   "execution_count": 4,
   "id": "fb70a710-d63d-4cac-99e2-c45a5e6ef564",
   "metadata": {},
   "outputs": [
    {
     "data": {
      "text/plain": [
       "ShapiroResult(statistic=0.9548861980438232, pvalue=1.6497512894355524e-29)"
      ]
     },
     "execution_count": 4,
     "metadata": {},
     "output_type": "execute_result"
    }
   ],
   "source": [
    "#Syntax for a Shapiro test\n",
    "sy.stats.shapiro(x_B)"
   ]
  },
  {
   "cell_type": "markdown",
   "id": "28fedb51-4af7-4db0-98cf-bd0b384686c6",
   "metadata": {},
   "source": [
    "## Let's use a \"real\" dataset, the 6 point board thickness csv file from Tutorial 1."
   ]
  },
  {
   "cell_type": "code",
   "execution_count": 5,
   "id": "e82ed9f4-ab7f-4a3a-97bb-89946d7d3efe",
   "metadata": {},
   "outputs": [],
   "source": [
    "#On a \"real\" dataset\n",
    "\n",
    "all_boards = pd.read_csv('six-point-board-thickness.csv')\n",
    "boards_no_time = all_boards.drop(columns=[\"Date.Time\"])\n",
    "pos1data = boards_no_time[['Pos1']]"
   ]
  },
  {
   "cell_type": "markdown",
   "id": "e6672fed-e8c0-4b9e-b3da-6271c03e15a2",
   "metadata": {},
   "source": [
    "## Normality Test (D'Agastino & Pearson's)"
   ]
  },
  {
   "cell_type": "code",
   "execution_count": 6,
   "id": "4abd386f-8248-4e7e-b9ca-081d2e24a5d0",
   "metadata": {},
   "outputs": [
    {
     "data": {
      "text/plain": [
       "NormaltestResult(statistic=array([2638.08951264]), pvalue=array([0.]))"
      ]
     },
     "execution_count": 6,
     "metadata": {},
     "output_type": "execute_result"
    }
   ],
   "source": [
    "#Doing the normality test\n",
    "sy.stats.normaltest(pos1data)"
   ]
  },
  {
   "cell_type": "markdown",
   "id": "5d6249f0-c541-4030-8218-2822ffde0ad1",
   "metadata": {},
   "source": [
    "## Shapiro Test"
   ]
  },
  {
   "cell_type": "code",
   "execution_count": 7,
   "id": "a8442e3e-4ca6-49d2-9ce3-11df495b8a25",
   "metadata": {},
   "outputs": [
    {
     "data": {
      "text/plain": [
       "ShapiroResult(statistic=0.877108097076416, pvalue=0.0)"
      ]
     },
     "execution_count": 7,
     "metadata": {},
     "output_type": "execute_result"
    }
   ],
   "source": [
    "#Doing the Shapiro Test\n",
    "sy.stats.shapiro(pos1data)"
   ]
  },
  {
   "cell_type": "code",
   "execution_count": null,
   "id": "cb21fe98",
   "metadata": {},
   "outputs": [],
   "source": []
  }
 ],
 "metadata": {
  "kernelspec": {
   "display_name": "Python 3 (ipykernel)",
   "language": "python",
   "name": "python3"
  },
  "language_info": {
   "codemirror_mode": {
    "name": "ipython",
    "version": 3
   },
   "file_extension": ".py",
   "mimetype": "text/x-python",
   "name": "python",
   "nbconvert_exporter": "python",
   "pygments_lexer": "ipython3",
   "version": "3.9.13"
  }
 },
 "nbformat": 4,
 "nbformat_minor": 5
}
