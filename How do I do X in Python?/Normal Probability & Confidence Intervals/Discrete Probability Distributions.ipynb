{
 "cells": [
  {
   "cell_type": "markdown",
   "id": "fd1d02a8-c3a2-4428-9fa7-3e40e9b7ff4b",
   "metadata": {},
   "source": [
    "# Discrete Probability Distributions"
   ]
  },
  {
   "cell_type": "markdown",
   "id": "5ee2c68d-b637-4697-b291-b8919453c680",
   "metadata": {},
   "source": [
    "## Importing Relevant Libraries"
   ]
  },
  {
   "cell_type": "code",
   "execution_count": 1,
   "id": "0eb4c604-e4e4-40c8-b7ab-041c5484150e",
   "metadata": {},
   "outputs": [],
   "source": [
    "import numpy as np\n",
    "import pandas as pd\n",
    "import scipy as sy\n",
    "from scipy.stats import norm"
   ]
  },
  {
   "cell_type": "markdown",
   "id": "76d6fe51-953f-4abc-822f-5f96b57b5304",
   "metadata": {},
   "source": [
    "## Binomial Distribution"
   ]
  },
  {
   "cell_type": "markdown",
   "id": "a588a3b7-d33f-48b3-8417-f709d718bd31",
   "metadata": {},
   "source": [
    "__Probability Mass Function__\n",
    "\n",
    "__binom refers to binomial distribution.\n",
    "sy.stats.binom.pmf takes in three components (k,n,p)__\n",
    "k = successes\n",
    "n = trials\n",
    "p = probability of success\n",
    "\n",
    "Note that the \"success\" can be a \"failure\". It is just choosing one of the binary options."
   ]
  },
  {
   "cell_type": "code",
   "execution_count": 3,
   "id": "9bd0311f-7786-484d-930d-c16ddb63abdc",
   "metadata": {},
   "outputs": [
    {
     "data": {
      "text/plain": [
       "0.243"
      ]
     },
     "execution_count": 3,
     "metadata": {},
     "output_type": "execute_result"
    }
   ],
   "source": [
    "#Probability Mass Function\n",
    "sy.stats.binom.pmf(1,3,0.1)"
   ]
  },
  {
   "cell_type": "markdown",
   "id": "addfda3d-11a8-4bbf-bcbc-c2dfe347bc3a",
   "metadata": {},
   "source": [
    "__Cumulative Distribution Function__\n",
    "\n",
    "__sy.stats.binom.cdf takes in three components (k,n,p)__\n",
    "k = successes\n",
    "n = trials\n",
    "p = probability of success"
   ]
  },
  {
   "cell_type": "code",
   "execution_count": 4,
   "id": "ea99a2f2-a88d-44c7-bc6d-3bda34f90d4b",
   "metadata": {},
   "outputs": [
    {
     "data": {
      "text/plain": [
       "0.972"
      ]
     },
     "execution_count": 4,
     "metadata": {},
     "output_type": "execute_result"
    }
   ],
   "source": [
    "#Cumulative Distribution Function\n",
    "sy.stats.binom.cdf(1,3,0.1)"
   ]
  },
  {
   "cell_type": "markdown",
   "id": "ce3678ce-9c8c-49eb-a543-93c76fcbd37b",
   "metadata": {},
   "source": [
    "## Poisson Distribution"
   ]
  },
  {
   "cell_type": "markdown",
   "id": "5dd43873-068c-42f9-b36f-7a890d025fcb",
   "metadata": {},
   "source": [
    "__Probability Mass Function__\n",
    "\n",
    "__poisson refers to poisson distribution.\n",
    "sy.stats.poisson.pmf takes in three components (count,lambda)__\n",
    "count = number of events\n",
    "lambda = expected number of events/unit time "
   ]
  },
  {
   "cell_type": "code",
   "execution_count": 5,
   "id": "27228986-7137-4f19-bca1-9cc73f5f1d1b",
   "metadata": {},
   "outputs": [
    {
     "data": {
      "text/plain": [
       "0.23059534056244857"
      ]
     },
     "execution_count": 5,
     "metadata": {},
     "output_type": "execute_result"
    }
   ],
   "source": [
    "#Using typhoid fever example. How many expected deaths from typhoid fever over a 1 year period when expected deaths is 2.3 deaths/year?\n",
    "sy.stats.poisson.pmf(1,2.3)"
   ]
  },
  {
   "cell_type": "code",
   "execution_count": 6,
   "id": "0ae453bc-a69d-4705-b6bb-2ff58350b05c",
   "metadata": {},
   "outputs": [
    {
     "data": {
      "text/plain": [
       "0.3308541842852522"
      ]
     },
     "execution_count": 6,
     "metadata": {},
     "output_type": "execute_result"
    }
   ],
   "source": [
    "sy.stats.poisson.cdf(1,2.3)"
   ]
  },
  {
   "cell_type": "code",
   "execution_count": null,
   "id": "c9c270ef-4c07-4941-80d0-dbbadb2c6552",
   "metadata": {},
   "outputs": [],
   "source": []
  }
 ],
 "metadata": {
  "kernelspec": {
   "display_name": "Python 3 (ipykernel)",
   "language": "python",
   "name": "python3"
  },
  "language_info": {
   "codemirror_mode": {
    "name": "ipython",
    "version": 3
   },
   "file_extension": ".py",
   "mimetype": "text/x-python",
   "name": "python",
   "nbconvert_exporter": "python",
   "pygments_lexer": "ipython3",
   "version": "3.9.13"
  }
 },
 "nbformat": 4,
 "nbformat_minor": 5
}
