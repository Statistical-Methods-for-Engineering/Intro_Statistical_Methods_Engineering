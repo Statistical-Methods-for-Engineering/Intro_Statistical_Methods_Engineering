{
 "cells": [
  {
   "cell_type": "markdown",
   "id": "0bf65544-e5d7-48c6-a082-a238f647f48f",
   "metadata": {},
   "source": [
    "# Confidence Intervals & T-Distribution"
   ]
  },
  {
   "cell_type": "markdown",
   "id": "ddf7f7b4-084a-4452-ae6c-b131638818da",
   "metadata": {},
   "source": [
    "## Importing Relevant Libraries"
   ]
  },
  {
   "cell_type": "code",
   "execution_count": 1,
   "id": "fffafae1-bce0-425b-8695-73b588b25bf9",
   "metadata": {},
   "outputs": [],
   "source": [
    "import numpy as np\n",
    "import pandas as pd\n",
    "import scipy as sy\n",
    "from scipy.stats import norm"
   ]
  },
  {
   "cell_type": "markdown",
   "id": "5b12c61c-49e1-44e6-94c0-abbca4eb92e0",
   "metadata": {
    "tags": []
   },
   "source": [
    "## Calculating Critical T Statistic Values"
   ]
  },
  {
   "cell_type": "code",
   "execution_count": 3,
   "id": "e866cc8c-0024-4206-a914-79dd30beae97",
   "metadata": {},
   "outputs": [
    {
     "data": {
      "text/plain": [
       "-2.262157162740992"
      ]
     },
     "execution_count": 3,
     "metadata": {},
     "output_type": "execute_result"
    }
   ],
   "source": [
    "#PPF, where the ppf takes (𝛼∕2,degree of freedom)\n",
    "sy.stats.t.ppf(0.025,9)"
   ]
  },
  {
   "cell_type": "code",
   "execution_count": 4,
   "id": "e0775f68-68b6-4305-bcb7-e4be916bd485",
   "metadata": {},
   "outputs": [
    {
     "data": {
      "text/plain": [
       "0.38790020259341756"
      ]
     },
     "execution_count": 4,
     "metadata": {},
     "output_type": "execute_result"
    }
   ],
   "source": [
    "#PDF formula (you likely will not need though)\n",
    "sy.stats.t.pdf(0.025,9)"
   ]
  },
  {
   "cell_type": "code",
   "execution_count": 5,
   "id": "83d28dab-b711-433d-8c89-9b4e58841e52",
   "metadata": {},
   "outputs": [
    {
     "data": {
      "text/plain": [
       "0.509699750075929"
      ]
     },
     "execution_count": 5,
     "metadata": {},
     "output_type": "execute_result"
    }
   ],
   "source": [
    "#CDF formula (you likely will not need though)\n",
    "sy.stats.t.cdf(0.025,9)"
   ]
  },
  {
   "cell_type": "markdown",
   "id": "94177313-817d-4d15-a3f1-d3dca6c1dee1",
   "metadata": {},
   "source": [
    "## Calculate the Intervals. Using polymer composite example from lecture."
   ]
  },
  {
   "cell_type": "code",
   "execution_count": 6,
   "id": "caa257b6-4223-48fb-9c99-5b5ed87b401a",
   "metadata": {},
   "outputs": [
    {
     "data": {
      "text/plain": [
       "2.3060041350333704"
      ]
     },
     "execution_count": 6,
     "metadata": {},
     "output_type": "execute_result"
    }
   ],
   "source": [
    "#Calculate critical t value for 𝛼 = 0.05 and (9-1) degrees of freedom \n",
    "sy.stats.t.ppf(0.975,8)"
   ]
  },
  {
   "cell_type": "code",
   "execution_count": 7,
   "id": "b9ebcb91-5986-470d-aa29-a9f8efa0f35f",
   "metadata": {},
   "outputs": [
    {
     "data": {
      "text/plain": [
       "(17.07137474850762, 22.92862525149238)"
      ]
     },
     "execution_count": 7,
     "metadata": {},
     "output_type": "execute_result"
    }
   ],
   "source": [
    "#Calculate interval \n",
    "#Interval function takes (confidence, df, loc = mean, scale= 𝑠/√𝑛)\n",
    "sy.stats.t.interval(0.95,df = 8, loc = 20, scale = (3.81/np.sqrt(9)))"
   ]
  },
  {
   "cell_type": "code",
   "execution_count": null,
   "id": "a6be2e46-292a-461a-bb20-8d2ef0639448",
   "metadata": {},
   "outputs": [],
   "source": []
  }
 ],
 "metadata": {
  "kernelspec": {
   "display_name": "Python 3 (ipykernel)",
   "language": "python",
   "name": "python3"
  },
  "language_info": {
   "codemirror_mode": {
    "name": "ipython",
    "version": 3
   },
   "file_extension": ".py",
   "mimetype": "text/x-python",
   "name": "python",
   "nbconvert_exporter": "python",
   "pygments_lexer": "ipython3",
   "version": "3.9.13"
  }
 },
 "nbformat": 4,
 "nbformat_minor": 5
}
