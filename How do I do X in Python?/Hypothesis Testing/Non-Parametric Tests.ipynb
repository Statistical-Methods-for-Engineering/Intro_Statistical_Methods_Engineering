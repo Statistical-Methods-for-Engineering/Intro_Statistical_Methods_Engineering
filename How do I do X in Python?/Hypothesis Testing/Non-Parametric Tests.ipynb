{
 "cells": [
  {
   "cell_type": "markdown",
   "id": "a53046c0-176e-451b-89ce-d51c70db8281",
   "metadata": {},
   "source": [
    "# Non-Parametric Tests"
   ]
  },
  {
   "cell_type": "markdown",
   "id": "121f8e4c-3eb7-4a71-bc12-a601748480c8",
   "metadata": {},
   "source": [
    "## Importing Relevant Libraries!"
   ]
  },
  {
   "cell_type": "code",
   "execution_count": 1,
   "id": "c5416efe-863b-4159-8c81-86805ea4d68b",
   "metadata": {},
   "outputs": [],
   "source": [
    "import numpy as np\n",
    "import pandas as pd\n",
    "import scipy as sy"
   ]
  },
  {
   "cell_type": "markdown",
   "id": "3c61af5d-020b-4bea-bbe8-ef8c2e1b10f4",
   "metadata": {},
   "source": [
    "## Wilcoxon Rank Sum (Mann-Whitney U Test)\n",
    "mannwhitneyu takes (a,b)\n",
    "\n",
    "Where a and b are your datasets.\n",
    "\n",
    "mannwhitneyu returns (test statistic, p-value)\n",
    "The p-value and test statistic are interpreted to determine significance."
   ]
  },
  {
   "cell_type": "code",
   "execution_count": 2,
   "id": "6c972e18-0b2b-47ed-a13c-9d4a591e2581",
   "metadata": {},
   "outputs": [],
   "source": [
    "#Making a dataset\n",
    "\n",
    "sample1_data = np.array([12.7,17.1,9.4,10.4,16.3,14.1,10.2,19.1,11.1])\n",
    "sample2_data= np.array([17.4,17.1,14.8,15.1,19.8,14.0,16.1,13.0,18.9,22.2,21.2,16.3,19.1])"
   ]
  },
  {
   "cell_type": "code",
   "execution_count": 3,
   "id": "f99a8ab6-2f83-41cd-87ce-bbd52eba2b52",
   "metadata": {},
   "outputs": [
    {
     "data": {
      "text/plain": [
       "MannwhitneyuResult(statistic=23.5, pvalue=0.02112199288148467)"
      ]
     },
     "execution_count": 3,
     "metadata": {},
     "output_type": "execute_result"
    }
   ],
   "source": [
    "sy.stats.mannwhitneyu(sample1_data,sample2_data)"
   ]
  },
  {
   "cell_type": "code",
   "execution_count": null,
   "id": "a4daf735",
   "metadata": {},
   "outputs": [],
   "source": []
  }
 ],
 "metadata": {
  "kernelspec": {
   "display_name": "Python 3 (ipykernel)",
   "language": "python",
   "name": "python3"
  },
  "language_info": {
   "codemirror_mode": {
    "name": "ipython",
    "version": 3
   },
   "file_extension": ".py",
   "mimetype": "text/x-python",
   "name": "python",
   "nbconvert_exporter": "python",
   "pygments_lexer": "ipython3",
   "version": "3.9.13"
  }
 },
 "nbformat": 4,
 "nbformat_minor": 5
}
