{
 "cells": [
  {
   "cell_type": "markdown",
   "id": "0bf65544-e5d7-48c6-a082-a238f647f48f",
   "metadata": {},
   "source": [
    "# Confidence Intervals & T-Distribution - Difference of Means"
   ]
  },
  {
   "cell_type": "markdown",
   "id": "ddf7f7b4-084a-4452-ae6c-b131638818da",
   "metadata": {},
   "source": [
    "## Importing Relevant Libraries"
   ]
  },
  {
   "cell_type": "code",
   "execution_count": 16,
   "id": "fffafae1-bce0-425b-8695-73b588b25bf9",
   "metadata": {},
   "outputs": [],
   "source": [
    "import pandas as pd #library to work with data frames\n",
    "import numpy as np #library to work with data frames\n",
    "import matplotlib.pyplot as plt #library to plot figure\n",
    "import matplotlib.dates as mdates #library for visualization\n",
    "import seaborn as sns #library to plot figures\n",
    "import statsmodels as sm\n",
    "import scipy\n",
    "from scipy import stats\n",
    "from scipy.stats import t"
   ]
  },
  {
   "cell_type": "markdown",
   "id": "5b12c61c-49e1-44e6-94c0-abbca4eb92e0",
   "metadata": {
    "tags": []
   },
   "source": [
    "## Creating two dummies datasets"
   ]
  },
  {
   "cell_type": "code",
   "execution_count": 17,
   "id": "e866cc8c-0024-4206-a914-79dd30beae97",
   "metadata": {},
   "outputs": [],
   "source": [
    "data1 = np.array([8.4,8.6,8.1,8.2,8.3,8.7,8.2,8.4,8.3,8.2,8.3,8.5,8.8,7.9,8.7])\n",
    "data2 = np.array([8.2,8.5,8.1,8.2,8.3,8.7,8.2,8.4,8.3,8.2,8.3,8.5,8.8,7.9,8.7])\n"
   ]
  },
  {
   "cell_type": "markdown",
   "id": "65c8b614-154b-4473-ad10-02dc94422b57",
   "metadata": {},
   "source": [
    "__Two-sided confidence interval using t-distribution__\n",
    "tconfint_generic takes in the mean, standard error of mean, degrees of freedom, alpha, and then you can specify it as one or two sided."
   ]
  },
  {
   "cell_type": "code",
   "execution_count": 18,
   "id": "e0775f68-68b6-4305-bcb7-e4be916bd485",
   "metadata": {},
   "outputs": [
    {
     "name": "stdout",
     "output_type": "stream",
     "text": [
      "\n",
      "\n",
      "The 95% CI is = (8.235336975463152, 8.511329691203514)\n"
     ]
    }
   ],
   "source": [
    "#Calculating Mean, standard deviation and standard error of the mean\n",
    "mean_data = np.mean(data1)\n",
    "std = np.std(data1,ddof=1)\n",
    "SEM = std/np.sqrt(15)\n",
    "\n",
    "#Make 95% confidence interval\n",
    "CI = sm.stats.weightstats._tconfint_generic(mean_data,SEM, (15-1), 0.05,alternative='two-sided')\n",
    "print('\\n')\n",
    "print (\"The 95% CI is = \" + str(CI))"
   ]
  },
  {
   "cell_type": "markdown",
   "id": "d2a8e193-46b7-46c7-bb73-0eb71a8c2e4e",
   "metadata": {},
   "source": [
    "__Two-sided confidence interval for DIFFERENCE OF MEANS using t-distribution__\n",
    "\n",
    "We are using the CompareMeans function which is comparing the means of the two datasets. DescrStatsW is generating the mean, standard deviation, variance for both datasets respectively. \n",
    "Using tconfint_diff allows us to easily compute the difference in means. usevar is where you specify the type of variance to use, you can set it to 'pooled' or 'unequal' which is the equivalent to using student's vs. welch's."
   ]
  },
  {
   "cell_type": "code",
   "execution_count": 19,
   "id": "83d28dab-b711-433d-8c89-9b4e58841e52",
   "metadata": {},
   "outputs": [
    {
     "name": "stdout",
     "output_type": "stream",
     "text": [
      "The 95% difference in mean CI is: (-0.16574232886007426, 0.2057423288600734)\n"
     ]
    }
   ],
   "source": [
    "import statsmodels.api as sm\n",
    "\n",
    "cm = sm.stats.CompareMeans(sm.stats.DescrStatsW(data1), sm.stats.DescrStatsW(data2))\n",
    "print(\"The 95% difference in mean CI is:\", cm.tconfint_diff(usevar='pooled'))"
   ]
  },
  {
   "cell_type": "code",
   "execution_count": null,
   "id": "53df919f-e977-4d14-8ba7-a656ffcae107",
   "metadata": {},
   "outputs": [],
   "source": []
  }
 ],
 "metadata": {
  "kernelspec": {
   "display_name": "Python 3 (ipykernel)",
   "language": "python",
   "name": "python3"
  },
  "language_info": {
   "codemirror_mode": {
    "name": "ipython",
    "version": 3
   },
   "file_extension": ".py",
   "mimetype": "text/x-python",
   "name": "python",
   "nbconvert_exporter": "python",
   "pygments_lexer": "ipython3",
   "version": "3.9.13"
  }
 },
 "nbformat": 4,
 "nbformat_minor": 5
}
