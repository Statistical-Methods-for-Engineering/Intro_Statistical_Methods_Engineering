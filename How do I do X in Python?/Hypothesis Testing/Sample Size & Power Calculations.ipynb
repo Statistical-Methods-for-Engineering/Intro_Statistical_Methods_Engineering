{
 "cells": [
  {
   "cell_type": "markdown",
   "id": "8145b40e-a763-412e-bb49-acfae39ef2bb",
   "metadata": {},
   "source": [
    "# Sample Size and Power Calculations"
   ]
  },
  {
   "cell_type": "markdown",
   "id": "6d1b5bfc-745b-4920-bef4-ccfc65aa6d9d",
   "metadata": {},
   "source": [
    "## Importing Relevant Libraries!"
   ]
  },
  {
   "cell_type": "code",
   "execution_count": null,
   "id": "fdae3984-9fb4-4830-a83f-04187e7f63d6",
   "metadata": {},
   "outputs": [],
   "source": [
    "import numpy as np\n",
    "import pandas as pd\n",
    "import scipy as sy\n",
    "import statsmodels.stats.power as smp"
   ]
  },
  {
   "cell_type": "markdown",
   "id": "da547c22-0743-47a8-8015-e639ab4e6ff3",
   "metadata": {},
   "source": [
    "Solve for one of the parameters of the power of a t-test.\n",
    "\n",
    "All parameters EXCEPT for one need to be specified.\n",
    "Both functions take (effect size, nobs, alpha, power)\n",
    "\n",
    "Effect size = effect size,\n",
    "nobs = number of observations,\n",
    "alpha = significance level,\n",
    "power = statistical power"
   ]
  },
  {
   "cell_type": "markdown",
   "id": "33905323-ba06-468d-8dda-39084b03e8f4",
   "metadata": {},
   "source": [
    "## One sample or paired t-test"
   ]
  },
  {
   "cell_type": "code",
   "execution_count": null,
   "id": "eaee099f-e230-461c-b84a-3a3159ce3bf8",
   "metadata": {},
   "outputs": [],
   "source": [
    "#smp.tt_solve_power(effect_size=(diff)/sd, nobs=, alpha=, power=, alternative=‘two-sided’)\n",
    "#Remove the parameter you are solving for\n",
    "diff = 3\n",
    "sd=3\n",
    "smp.tt_solve_power(effect_size=(diff)/sd, nobs=10, alpha=0.05, alternative=\"two-sided\")"
   ]
  },
  {
   "cell_type": "markdown",
   "id": "b7b953ba-4d57-46a5-9389-6bd100089889",
   "metadata": {},
   "source": [
    "## Two sample independent t-test"
   ]
  },
  {
   "cell_type": "code",
   "execution_count": null,
   "id": "544c0295-225e-49d3-ae7f-482159fdba22",
   "metadata": {},
   "outputs": [],
   "source": [
    "#smp.tt_solve_power(effect_size=(diff)/sd, nobs1=, alpha=, power=, alternative=‘two-sided’)\n",
    "#Remove the parameter you are solving for\n",
    "diff = 3\n",
    "sd=2\n",
    "smp.tt_ind_solve_power(effect_size=(diff)/sd,alpha=0.05, power=0.8, alternative=\"two-sided\",ratio=1)"
   ]
  }
 ],
 "metadata": {
  "kernelspec": {
   "display_name": "Python 3 (ipykernel)",
   "language": "python",
   "name": "python3"
  },
  "language_info": {
   "codemirror_mode": {
    "name": "ipython",
    "version": 3
   },
   "file_extension": ".py",
   "mimetype": "text/x-python",
   "name": "python",
   "nbconvert_exporter": "python",
   "pygments_lexer": "ipython3",
   "version": "3.9.13"
  }
 },
 "nbformat": 4,
 "nbformat_minor": 5
}
