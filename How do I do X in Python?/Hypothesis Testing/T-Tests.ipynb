{
 "cells": [
  {
   "cell_type": "markdown",
   "id": "0fd187b4-30d5-4edf-b930-3b8a53d71e82",
   "metadata": {},
   "source": [
    "# T-Tests "
   ]
  },
  {
   "cell_type": "markdown",
   "id": "ecb7112b-0b33-4c3f-b81f-340ba976134f",
   "metadata": {},
   "source": [
    "Most statistical software defaults to Welch's t-tests if not specified. Welch's t-test will give the same p-value as the Student's t-test if evaluated with equal variances. \n",
    "\n",
    "The only potential reason, beyond easier by-hand calculation, to use the Student's t-test is where sample sizes are vastly different (ie. several orders of magnitude difference). In this scenario, the Student's t-test will have slightly more statistical power than Welch's."
   ]
  },
  {
   "cell_type": "markdown",
   "id": "6cf6de15-ab48-43c2-85f2-d20b9922df14",
   "metadata": {},
   "source": [
    "## Testing for equal variance"
   ]
  },
  {
   "cell_type": "markdown",
   "id": "c61dc86e-0ac8-47ff-af6d-1c28e3de21b8",
   "metadata": {},
   "source": [
    "## Levene's Test\n",
    "The result of Levene's test tends to be higher when there are major differences between variances of the samples."
   ]
  },
  {
   "cell_type": "markdown",
   "id": "a7adbef6-5ac2-47f1-81f0-6057d83fa05e",
   "metadata": {},
   "source": [
    "## Importing Relevant Libraries!"
   ]
  },
  {
   "cell_type": "code",
   "execution_count": 1,
   "id": "08eb8d8d-326c-4308-9ad2-e1356b8320ea",
   "metadata": {},
   "outputs": [],
   "source": [
    "import numpy as np\n",
    "import pandas as pd\n",
    "import scipy as sy"
   ]
  },
  {
   "cell_type": "code",
   "execution_count": 11,
   "id": "4d599348-4228-41ac-ac50-97a473354480",
   "metadata": {},
   "outputs": [],
   "source": [
    "#On a \"real\" dataset from Tutorial 1\n",
    "\n",
    "all_boards = pd.read_csv('six-point-board-thickness.csv')\n",
    "boards_no_time = all_boards.drop(columns=[\"Date.Time\"])\n",
    "pos1data = boards_no_time['Pos1']\n",
    "pos2data = boards_no_time['Pos2']"
   ]
  },
  {
   "cell_type": "markdown",
   "id": "a1ab47f2-2d55-42a7-8f01-867d0bd8b839",
   "metadata": {},
   "source": [
    "## Levene's Test\n",
    "levene test takes (dataset 1, dataset 2)\n",
    "levene test returns (statistic, p-value)"
   ]
  },
  {
   "cell_type": "code",
   "execution_count": 12,
   "id": "74bafbb2-13dc-49a7-8c9b-5dfd3ab653d0",
   "metadata": {},
   "outputs": [
    {
     "data": {
      "text/plain": [
       "LeveneResult(statistic=0.009834613181411584, pvalue=0.9210055852272838)"
      ]
     },
     "execution_count": 12,
     "metadata": {},
     "output_type": "execute_result"
    }
   ],
   "source": [
    "sy.stats.levene(pos1data,pos2data)"
   ]
  },
  {
   "cell_type": "markdown",
   "id": "e83da439-0e71-439a-8626-da23ae6ef0bd",
   "metadata": {},
   "source": [
    "# Welch's T-Test (and Student's T-Test)\n",
    "Welch's t-test (ttest_ind) takes (a, b, axis=0, equal_var=True)\n",
    "a and b are your datasets of interest. \n",
    "__For a welch's t-test, equal_var should equal false. equal_var defaults to true which means that this will default to a student's t-test.__\n",
    "\n",
    "Welch's t-test returns (test statistic, p-value, degrees of freedom)\n",
    "The p-value and test statistic are interpreted to determine significance."
   ]
  },
  {
   "cell_type": "code",
   "execution_count": 13,
   "id": "5b40e29b-911b-4a7d-8301-80facb472720",
   "metadata": {},
   "outputs": [
    {
     "data": {
      "text/plain": [
       "Ttest_indResult(statistic=9.949158256143033, pvalue=3.260057103997362e-23)"
      ]
     },
     "execution_count": 13,
     "metadata": {},
     "output_type": "execute_result"
    }
   ],
   "source": [
    "sy.stats.ttest_ind(pos1data,pos2data,equal_var=\"false\")"
   ]
  },
  {
   "cell_type": "markdown",
   "id": "455d8cf8-6aab-48e1-953e-cc452b879d4b",
   "metadata": {},
   "source": [
    "# Paired T-Test\n",
    "The Paired T-test (ttest_rel) takes (a, b)\n",
    "a and b are your datasets of interest. \n",
    "\n",
    "Paired t-test returns (test statistic, p-value, degrees of freedom)\n",
    "The p-value and test statistic are interpreted to determine significance."
   ]
  },
  {
   "cell_type": "code",
   "execution_count": 14,
   "id": "856aaebd-a05a-4dc0-b5d1-dd7380df4dfb",
   "metadata": {},
   "outputs": [
    {
     "data": {
      "text/plain": [
       "Ttest_relResult(statistic=14.94954788871504, pvalue=1.812901834092928e-49)"
      ]
     },
     "execution_count": 14,
     "metadata": {},
     "output_type": "execute_result"
    }
   ],
   "source": [
    "sy.stats.ttest_rel(pos1data,pos2data)"
   ]
  },
  {
   "cell_type": "code",
   "execution_count": null,
   "id": "dca8e958",
   "metadata": {},
   "outputs": [],
   "source": []
  }
 ],
 "metadata": {
  "kernelspec": {
   "display_name": "Python 3 (ipykernel)",
   "language": "python",
   "name": "python3"
  },
  "language_info": {
   "codemirror_mode": {
    "name": "ipython",
    "version": 3
   },
   "file_extension": ".py",
   "mimetype": "text/x-python",
   "name": "python",
   "nbconvert_exporter": "python",
   "pygments_lexer": "ipython3",
   "version": "3.9.13"
  }
 },
 "nbformat": 4,
 "nbformat_minor": 5
}
