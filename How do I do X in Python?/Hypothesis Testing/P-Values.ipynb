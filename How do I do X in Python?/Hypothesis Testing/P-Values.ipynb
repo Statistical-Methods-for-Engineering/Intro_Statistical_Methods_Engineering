{
 "cells": [
  {
   "cell_type": "markdown",
   "id": "efc622d4-9835-4de0-8e03-7efb4ddecff8",
   "metadata": {},
   "source": [
    "# P-Values"
   ]
  },
  {
   "cell_type": "markdown",
   "id": "3b7b6acc-fe4b-4819-ac3d-5f7becefb736",
   "metadata": {},
   "source": [
    "## Importing relevant libraries!"
   ]
  },
  {
   "cell_type": "code",
   "execution_count": 1,
   "id": "42dc1136-853c-4f17-8add-814255210c98",
   "metadata": {},
   "outputs": [],
   "source": [
    "import numpy as np\n",
    "import pandas as pd\n",
    "import scipy as sy\n",
    "from scipy.stats import norm"
   ]
  },
  {
   "cell_type": "markdown",
   "id": "6a805745-aa62-4080-b026-bdf8e32adb9e",
   "metadata": {},
   "source": [
    "## Known variance"
   ]
  },
  {
   "cell_type": "code",
   "execution_count": 2,
   "id": "748e7871-fe93-4268-aaee-93bc6a4addd9",
   "metadata": {},
   "outputs": [],
   "source": [
    "#Creating grades dataset\n",
    "data ={'Grades':[50,60,60,64,66,66,67,69,70,74,76,76,77,79,79,79,81,82,82,89]}\n",
    "XA = pd.DataFrame(data)"
   ]
  },
  {
   "cell_type": "code",
   "execution_count": 3,
   "id": "6033c980-cc4e-4018-b909-c756146a2bb8",
   "metadata": {},
   "outputs": [
    {
     "name": "stdout",
     "output_type": "stream",
     "text": [
      "0.011922871882469877\n"
     ]
    }
   ],
   "source": [
    "#Calculate z-score using standardization formula\n",
    "zscore = (72.3-67.5) / (9.5/np.sqrt(20))\n",
    "\n",
    "pvalue = 1-norm.cdf(zscore)\n",
    "\n",
    "print(pvalue)\n",
    "\n",
    "#If we were using a two-sided test we would multiple the pvalue by 2."
   ]
  },
  {
   "cell_type": "markdown",
   "id": "98fa578b-ba8a-465d-85cb-cee6111889e0",
   "metadata": {},
   "source": [
    "## Unknown variance"
   ]
  },
  {
   "cell_type": "code",
   "execution_count": 4,
   "id": "af12a54c-a53e-434e-b478-2c9e3583b47a",
   "metadata": {},
   "outputs": [
    {
     "name": "stdout",
     "output_type": "stream",
     "text": [
      "The t-score is: 2.254858464705669\n",
      "The critical t value is:  2.093024054408263\n"
     ]
    }
   ],
   "source": [
    "#Calculate t-score using standardization formula\n",
    "tscore = (72.3-67.5)/(9.52/np.sqrt(20))\n",
    "print(\"The t-score is:\", tscore)\n",
    "print(\"The critical t value is: \",sy.stats.t.ppf(0.975,19))\n"
   ]
  },
  {
   "cell_type": "markdown",
   "id": "07b9d734-401f-4593-b514-b31addd7fc38",
   "metadata": {},
   "source": [
    "## T-Test\n",
    "ttest_1samp __takes__ (dataframe, population mean)\n",
    "ttest_1samp __returns__ (t-statistic, p-value)"
   ]
  },
  {
   "cell_type": "code",
   "execution_count": 5,
   "id": "10f6a85c-b566-4eaf-848a-b20abf8821ad",
   "metadata": {},
   "outputs": [
    {
     "name": "stdout",
     "output_type": "stream",
     "text": [
      "Ttest_1sampResult(statistic=array([2.25471287]), pvalue=array([0.03614522]))\n"
     ]
    }
   ],
   "source": [
    "#Run T-Test\n",
    "print(sy.stats.ttest_1samp(XA, 67.5))\n"
   ]
  },
  {
   "cell_type": "code",
   "execution_count": null,
   "id": "d2c4541b",
   "metadata": {},
   "outputs": [],
   "source": []
  }
 ],
 "metadata": {
  "kernelspec": {
   "display_name": "Python 3 (ipykernel)",
   "language": "python",
   "name": "python3"
  },
  "language_info": {
   "codemirror_mode": {
    "name": "ipython",
    "version": 3
   },
   "file_extension": ".py",
   "mimetype": "text/x-python",
   "name": "python",
   "nbconvert_exporter": "python",
   "pygments_lexer": "ipython3",
   "version": "3.9.13"
  }
 },
 "nbformat": 4,
 "nbformat_minor": 5
}
