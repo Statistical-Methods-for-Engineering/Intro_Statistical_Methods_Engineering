{
 "cells": [
  {
   "cell_type": "markdown",
   "id": "802013ca-4570-406c-ba06-cac281f1ff63",
   "metadata": {},
   "source": [
    "# ANOVA"
   ]
  },
  {
   "cell_type": "markdown",
   "id": "30b11059-27ab-493a-ae95-2d321fc06617",
   "metadata": {},
   "source": [
    "## __Importing Relevant Libraries!__"
   ]
  },
  {
   "cell_type": "code",
   "execution_count": 10,
   "id": "194482d6-5a37-4d76-9adf-09e9c44b02ce",
   "metadata": {},
   "outputs": [],
   "source": [
    "import numpy as np\n",
    "import pandas as pd\n",
    "import matplotlib.pyplot as plt\n",
    "import scipy as sy\n",
    "from scipy import stats  \n",
    "import seaborn as sns\n",
    "import statsmodels.api as sm\n",
    "from statsmodels.formula.api import ols"
   ]
  },
  {
   "cell_type": "code",
   "execution_count": 11,
   "id": "bddc70cd-e103-4c13-91fa-0e1444bcd320",
   "metadata": {},
   "outputs": [
    {
     "name": "stdout",
     "output_type": "stream",
     "text": [
      "              5%        10%        15%        20%\n",
      "count   6.000000   6.000000   6.000000   6.000000\n",
      "mean   10.000000  15.666667  17.000000  21.166667\n",
      "std     2.828427   2.804758   1.788854   2.639444\n",
      "min     7.000000  12.000000  14.000000  18.000000\n",
      "25%     8.250000  13.500000  16.250000  19.250000\n",
      "50%     9.500000  16.000000  17.500000  21.000000\n",
      "75%    10.750000  17.750000  18.000000  22.750000\n",
      "max    15.000000  19.000000  19.000000  25.000000\n"
     ]
    }
   ],
   "source": [
    "data = pd.read_csv('ANOVAExample.csv')\n",
    "print(data.describe())"
   ]
  },
  {
   "cell_type": "markdown",
   "id": "7f52e85f-a415-4e62-958f-e67674263a06",
   "metadata": {},
   "source": [
    "## __Making five separate dataframes for each paper concentration__"
   ]
  },
  {
   "cell_type": "code",
   "execution_count": 12,
   "id": "5cfad8e1-f5f2-44af-a596-d38d55f23855",
   "metadata": {},
   "outputs": [],
   "source": [
    "#Making five separate dataframes for each paper concentration\n",
    "five = data[['5%']]\n",
    "ten = data[['10%']]\n",
    "fifteen = data[['15%']]\n",
    "twenty = data[['20%']]\n"
   ]
  },
  {
   "cell_type": "markdown",
   "id": "889ba5ec-cdb6-469c-bf82-e83b95c4de40",
   "metadata": {},
   "source": [
    "## __Compute one-way ANOVA__ \n",
    "f_oneway just takes in the dataframes, nothing else is needed.\n",
    "\n",
    "__Results are the F-statistic and a p-value. F-statistic can be compared to a critical value, p-value can be compared to alpha.__"
   ]
  },
  {
   "cell_type": "code",
   "execution_count": 13,
   "id": "ae13d6fc-54be-4d5d-ac95-297116b67b80",
   "metadata": {},
   "outputs": [
    {
     "name": "stdout",
     "output_type": "stream",
     "text": [
      "F_onewayResult(statistic=array([19.605207]), pvalue=array([3.59257826e-06]))\n"
     ]
    }
   ],
   "source": [
    "#Compute one-way ANOVA. Just put in the dataframes, nothing else is needed.\n",
    "anova = sy.stats.f_oneway(five,ten,fifteen,twenty)\n",
    "print(anova)"
   ]
  },
  {
   "cell_type": "markdown",
   "id": "23dd904f-8783-484d-ad89-0b647685a501",
   "metadata": {},
   "source": [
    "## __Compute TukeyHSD Test__\n",
    "For ANOVA, it is better to have the data grouped so data1 is a revised dataframe that has the data labelled.\n",
    "\n",
    "pairwise_tukeyhsd takes (values,groups,alpha)\n",
    "\n",
    "__Results create a table showing the post-hoc test for each individual comparison (ie. 5 vs. 10, 5 vs. 15, 5 vs. 20 etc.). p-adj is the p-value for that test. lower/upper represent the lower/upper bounds of the confidence interval. reject is whether or not the null is rejected based on your assigned alpha.__"
   ]
  },
  {
   "cell_type": "code",
   "execution_count": 14,
   "id": "09e66cf0-2857-445b-b251-ff490c70517e",
   "metadata": {},
   "outputs": [
    {
     "name": "stdout",
     "output_type": "stream",
     "text": [
      " Multiple Comparison of Means - Tukey HSD, FWER=0.05 \n",
      "=====================================================\n",
      "group1 group2 meandiff p-adj   lower    upper  reject\n",
      "-----------------------------------------------------\n",
      "   10%    15%   1.3333 0.8022  -2.7892  5.4559  False\n",
      "   10%    20%      5.5 0.0066   1.3774  9.6226   True\n",
      "   10%     5%  -5.6667 0.0051  -9.7892 -1.5441   True\n",
      "   15%    20%   4.1667  0.047   0.0441  8.2892   True\n",
      "   15%     5%     -7.0 0.0007 -11.1226 -2.8774   True\n",
      "   20%     5% -11.1667    0.0 -15.2892 -7.0441   True\n",
      "-----------------------------------------------------\n"
     ]
    }
   ],
   "source": [
    "#For ANOVA, it is better to have the data grouped so data1 is a revised dataframe that has the data labelled\n",
    "data1 = pd.DataFrame({'Strength':[7,8,15,11,9,10,12,17,13,18,19,15,14,18,19,17,16,18,19,25,22,23,18,20],'group':np.repeat(['5%','10%','15%','20%'],repeats=6)})\n",
    "\n",
    "#pairwise_tukeyhsd takes (values,groups,alpha)\n",
    "tukey = sm.stats.multicomp.pairwise_tukeyhsd(endog=data1['Strength'],groups=data1['group'],alpha=0.05)\n",
    "print(tukey)"
   ]
  },
  {
   "cell_type": "code",
   "execution_count": null,
   "id": "a372281a",
   "metadata": {},
   "outputs": [],
   "source": []
  }
 ],
 "metadata": {
  "kernelspec": {
   "display_name": "Python 3 (ipykernel)",
   "language": "python",
   "name": "python3"
  },
  "language_info": {
   "codemirror_mode": {
    "name": "ipython",
    "version": 3
   },
   "file_extension": ".py",
   "mimetype": "text/x-python",
   "name": "python",
   "nbconvert_exporter": "python",
   "pygments_lexer": "ipython3",
   "version": "3.9.13"
  }
 },
 "nbformat": 4,
 "nbformat_minor": 5
}
