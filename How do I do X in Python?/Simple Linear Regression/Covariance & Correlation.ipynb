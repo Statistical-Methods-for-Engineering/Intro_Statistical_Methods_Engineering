{
 "cells": [
  {
   "cell_type": "markdown",
   "id": "8975bab3-1354-4ce4-a8b6-774fcad75dd5",
   "metadata": {},
   "source": [
    "# Correlation & Covariance"
   ]
  },
  {
   "cell_type": "markdown",
   "id": "eef0b21f-64ed-4b57-bc3f-2b2152b3fd82",
   "metadata": {},
   "source": [
    "## __Importing Relevant Libraries!__"
   ]
  },
  {
   "cell_type": "code",
   "execution_count": null,
   "id": "2116df32-ba06-491d-91ea-55fc742a3477",
   "metadata": {},
   "outputs": [],
   "source": [
    "import numpy as np\n",
    "import pandas as pd\n",
    "import matplotlib.pyplot as plt\n",
    "import scipy as sy\n",
    "from scipy import stats  \n",
    "import seaborn as sns\n",
    "import statsmodels.api as sm\n",
    "from statsmodels.formula.api import ols"
   ]
  },
  {
   "cell_type": "markdown",
   "id": "7b72a528-ef8e-4562-8c86-f606bf908b44",
   "metadata": {},
   "source": [
    "## Covariance Calculation \n",
    "np.cov takes in the vectors of data that you are comparing"
   ]
  },
  {
   "cell_type": "markdown",
   "id": "191223a2-33d4-4be6-adbc-9a5c9ef99205",
   "metadata": {},
   "source": [
    "__Generating dummy data__"
   ]
  },
  {
   "cell_type": "code",
   "execution_count": null,
   "id": "fbb9e864-b8b0-4ae8-82e4-f2e539ea0af9",
   "metadata": {},
   "outputs": [],
   "source": [
    "a = [1,3,5,7,9]\n",
    "b = [2,4,6,8,10]\n",
    "c = [10,9,7,5,3]\n",
    "d = [8,6,5,4,2]\n",
    "x=np.array([a,b,c,d])\n"
   ]
  },
  {
   "cell_type": "code",
   "execution_count": null,
   "id": "f38132ff-4eb6-405d-bb56-ab568a9be03d",
   "metadata": {},
   "outputs": [],
   "source": [
    "#Covariance between a and b\n",
    "covariancea_b = np.cov(a,b)\n",
    "print('\\n')\n",
    "print(covariancea_b)"
   ]
  },
  {
   "cell_type": "code",
   "execution_count": null,
   "id": "5dac081c-4bf4-4ff2-96b9-8829b6f12675",
   "metadata": {},
   "outputs": [],
   "source": [
    "#Covariance for whole matrix\n",
    "covariancex = np.cov(x)\n",
    "print('\\n')\n",
    "print(covariancex)"
   ]
  },
  {
   "cell_type": "markdown",
   "id": "845f38fb-41f5-4aa4-892a-4e649e40229a",
   "metadata": {},
   "source": [
    "## Correlation Calculation \n",
    "stats.pearsonr takes in the vectors of data that you are comparing"
   ]
  },
  {
   "cell_type": "code",
   "execution_count": null,
   "id": "223043d5-2e0d-4d31-a3f8-288626208f87",
   "metadata": {},
   "outputs": [],
   "source": [
    "#Correlation between a and b\n",
    "print('\\n')\n",
    "print(stats.pearsonr(a,b))\n"
   ]
  },
  {
   "cell_type": "code",
   "execution_count": null,
   "id": "9587df59-89a1-4f76-8ff3-1bf7734af666",
   "metadata": {},
   "outputs": [],
   "source": [
    "#Correlation between b and d\n",
    "\n",
    "print('\\n')\n",
    "print(stats.pearsonr(b,d))\n",
    "\n"
   ]
  }
 ],
 "metadata": {
  "kernelspec": {
   "display_name": "Python 3 (ipykernel)",
   "language": "python",
   "name": "python3"
  },
  "language_info": {
   "codemirror_mode": {
    "name": "ipython",
    "version": 3
   },
   "file_extension": ".py",
   "mimetype": "text/x-python",
   "name": "python",
   "nbconvert_exporter": "python",
   "pygments_lexer": "ipython3",
   "version": "3.9.13"
  }
 },
 "nbformat": 4,
 "nbformat_minor": 5
}
