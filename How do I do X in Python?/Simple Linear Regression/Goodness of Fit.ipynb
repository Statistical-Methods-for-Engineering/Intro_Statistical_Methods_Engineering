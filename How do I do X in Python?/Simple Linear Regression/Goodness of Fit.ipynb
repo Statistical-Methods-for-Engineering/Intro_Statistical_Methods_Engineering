{
 "cells": [
  {
   "cell_type": "markdown",
   "id": "wicked-jesus",
   "metadata": {},
   "source": [
    "# Checking Assumptions of Linear Regression"
   ]
  },
  {
   "cell_type": "markdown",
   "id": "1340d78d-1608-49c8-ade4-ab149f9db766",
   "metadata": {},
   "source": [
    "## Importing Relevant Libraries!"
   ]
  },
  {
   "cell_type": "code",
   "execution_count": null,
   "id": "83c0ae52-2b63-4d94-b60e-494393279065",
   "metadata": {},
   "outputs": [],
   "source": [
    "import numpy as np\n",
    "import pandas as pd\n",
    "import matplotlib.pyplot as plt\n",
    "import scipy as sy\n",
    "from scipy import stats  \n",
    "import seaborn as sns\n",
    "import statsmodels.api as sm\n",
    "from statsmodels.formula.api import ols\n",
    "from statsmodels.stats.anova import anova_lm"
   ]
  },
  {
   "cell_type": "markdown",
   "id": "74417cc2-afb7-4fa3-9f1c-21cba4917862",
   "metadata": {},
   "source": [
    "## __Importing dataset and creating initial regression plot__"
   ]
  },
  {
   "cell_type": "code",
   "execution_count": null,
   "id": "d63347e0-69d6-4554-a002-725a2762db33",
   "metadata": {},
   "outputs": [],
   "source": [
    "Salt=pd.read_csv('WatershedSalt.csv')\n",
    "Salt"
   ]
  },
  {
   "cell_type": "code",
   "execution_count": null,
   "id": "b96a5d1f-9611-4b5f-a0b3-2312fa0c75f9",
   "metadata": {},
   "outputs": [],
   "source": [
    "plotSalt=sns.regplot(x='Roadway_Area',y='Salt_Conc',data=Salt,ci=None)"
   ]
  },
  {
   "cell_type": "markdown",
   "id": "12f75ffd-1880-4767-b25b-a793c7f85b1e",
   "metadata": {},
   "source": [
    "## __Calculating correlation and covariance__"
   ]
  },
  {
   "cell_type": "code",
   "execution_count": null,
   "id": "581c7ce4-6a6c-4eb6-9d51-c28f56d01f89",
   "metadata": {},
   "outputs": [],
   "source": [
    "stats.pearsonr(x=Salt[\"Salt_Conc\"],y=Salt[\"Roadway_Area\"])"
   ]
  },
  {
   "cell_type": "code",
   "execution_count": null,
   "id": "12969f06-aec9-4862-be79-75da8510e2d7",
   "metadata": {},
   "outputs": [],
   "source": [
    "Salt.cov()"
   ]
  },
  {
   "cell_type": "code",
   "execution_count": null,
   "id": "aa594574-a4c2-400a-bead-f7a4bc7afb7a",
   "metadata": {},
   "outputs": [],
   "source": [
    "Salt.corr()"
   ]
  },
  {
   "cell_type": "markdown",
   "id": "8a802c01-4bbc-438f-99ab-58c3c39cf469",
   "metadata": {},
   "source": [
    "## __Computing Regression & ANOVA Table__\n",
    "\n",
    "We want to compute the regression model and then we can use the ANOVA table to evaluate statistical significance AND to estimate errors.\n",
    "\n",
    "axvline adds a vertical line at given coordinates."
   ]
  },
  {
   "cell_type": "code",
   "execution_count": null,
   "id": "10943788-1afb-4af0-8fc1-089919bafbab",
   "metadata": {},
   "outputs": [],
   "source": [
    "#Regression Model\n",
    "model1=ols('Salt_Conc~Roadway_Area',data=Salt)\n",
    "results1=model1.fit()\n",
    "print(results1.summary2())"
   ]
  },
  {
   "cell_type": "code",
   "execution_count": null,
   "id": "67e7b9db-e743-4a1a-b4dd-4fc40ecc5df5",
   "metadata": {},
   "outputs": [],
   "source": [
    "#Plotting regression line\n",
    "plotSalt=sns.regplot(x='Roadway_Area',y='Salt_Conc',data=Salt,ci=None)\n",
    "plotSalt.annotate(text='y fitted = 2.68 + 17.55x',xy=(.2,30),xycoords='data')\n",
    "plotSalt.axvline(x=0.824,c=\"r\",linestyle=\":\")\n",
    "plotSalt.axhline(y=17.135,c=\"r\",linestyle=\":\")"
   ]
  },
  {
   "cell_type": "code",
   "execution_count": null,
   "id": "e4592092-c531-488f-a182-2504d53d05ce",
   "metadata": {},
   "outputs": [],
   "source": [
    "#ANOVA table for Model\n",
    "anova_results = anova_lm(results1)\n",
    "print(anova_results)"
   ]
  },
  {
   "cell_type": "markdown",
   "id": "4826fd74-ce45-4122-a233-f19ae2a7b694",
   "metadata": {},
   "source": [
    "## __Examining residuals of model__\n",
    "fittedvalues gives us the fitted values from the regression model. resid gives us the residuals from the regression model."
   ]
  },
  {
   "cell_type": "code",
   "execution_count": null,
   "id": "8c536e36-e709-4202-a7e0-e52b946f7be1",
   "metadata": {},
   "outputs": [],
   "source": [
    "results1.fittedvalues"
   ]
  },
  {
   "cell_type": "code",
   "execution_count": null,
   "id": "8a481c62-66b0-4320-a21b-ca3c295db788",
   "metadata": {},
   "outputs": [],
   "source": [
    "sns.scatterplot(x=results1.fittedvalues,y=results1.resid)\n",
    "#plt.xlabel(\"fitted values\")\n",
    "#plt.ylabel(\"residuals\")"
   ]
  },
  {
   "cell_type": "code",
   "execution_count": null,
   "id": "f4f93061-b306-4c44-b347-6a8378a75382",
   "metadata": {},
   "outputs": [],
   "source": [
    "sns.residplot(x='Roadway_Area',y='Salt_Conc',data=Salt)"
   ]
  },
  {
   "cell_type": "code",
   "execution_count": null,
   "id": "f465a0f2-841c-4556-a4e8-9d28f21b5cfb",
   "metadata": {},
   "outputs": [],
   "source": [
    "# for SLR the residual vs fitted is the same as the residual vs predictor plot\n",
    "sns.residplot(x=Salt[\"Roadway_Area\"],y=results1.resid)\n",
    "plt.xlabel(\"fitted values\")\n",
    "plt.ylabel(\"residuals\")"
   ]
  },
  {
   "cell_type": "markdown",
   "id": "fbb454c4-5de6-4bb7-8cf7-6510d4b2e99b",
   "metadata": {},
   "source": [
    "## __Generating all residual plots__\n",
    "\n",
    "graphics.plot_regress_exog generates four plots that you can use to assess your model. For this course, the top two will be the focus but the other two can be used as well.\n",
    "\n",
    "Residual plots should not depart from 0 in a systematic fashion.\n",
    "Top left is comparing the independent vs. dependent variables - it should show a linear trend.\n",
    "Top right chart shows independent variable vs. residuals. It should NOT vary around the regression linear in a non-constant manner. \n",
    "\n",
    "Bottom left shows the partial regression plot and the bottom right shows the component and component+residual plot (CCPR). For us to meet the assumptions of linear regression, the data points should be close to the line. "
   ]
  },
  {
   "cell_type": "code",
   "execution_count": null,
   "id": "8183c051-de56-41cf-b1ce-cdd6012fb922",
   "metadata": {},
   "outputs": [],
   "source": [
    "fig=plt.figure(figsize=(12,8))\n",
    "fig=sm.graphics.plot_regress_exog(results1,'Roadway_Area',fig=fig)"
   ]
  },
  {
   "cell_type": "markdown",
   "id": "df754c4d-9822-4f0f-86c6-44ebb0c23ef0",
   "metadata": {},
   "source": [
    "## __Examining Normality of Residuals__\n",
    "To check the assumptions of normality you can use the standard qq plots and shapiro-wilk tests."
   ]
  },
  {
   "cell_type": "code",
   "execution_count": null,
   "id": "2c581de2-dbab-4623-9bbf-e275fd8df4a3",
   "metadata": {},
   "outputs": [],
   "source": [
    "sm.qqplot(results1.resid,line='s')\n",
    "plt.show()"
   ]
  },
  {
   "cell_type": "code",
   "execution_count": null,
   "id": "2f0d1dc9-533b-42e5-b23c-a20346ce70f7",
   "metadata": {},
   "outputs": [],
   "source": [
    "stats.shapiro(results1.resid)"
   ]
  }
 ],
 "metadata": {
  "kernelspec": {
   "display_name": "Python 3 (ipykernel)",
   "language": "python",
   "name": "python3"
  },
  "language_info": {
   "codemirror_mode": {
    "name": "ipython",
    "version": 3
   },
   "file_extension": ".py",
   "mimetype": "text/x-python",
   "name": "python",
   "nbconvert_exporter": "python",
   "pygments_lexer": "ipython3",
   "version": "3.9.13"
  }
 },
 "nbformat": 4,
 "nbformat_minor": 5
}
