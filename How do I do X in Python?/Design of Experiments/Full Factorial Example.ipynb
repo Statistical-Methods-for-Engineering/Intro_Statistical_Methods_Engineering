{
 "cells": [
  {
   "cell_type": "markdown",
   "id": "faa71bf3-0a5b-4d52-b658-3d731b23f865",
   "metadata": {},
   "source": [
    "# FULL FACTORIAL EXAMPLE"
   ]
  },
  {
   "cell_type": "markdown",
   "id": "a9ce5d41-1179-4040-a7ff-4efa138c6457",
   "metadata": {},
   "source": [
    "## Importing Relevant Libraries!"
   ]
  },
  {
   "cell_type": "code",
   "execution_count": 1,
   "id": "5bfd365e-568a-42ee-86b1-a186cb1a607f",
   "metadata": {},
   "outputs": [],
   "source": [
    "import numpy as np\n",
    "import pandas as pd\n",
    "import matplotlib.pyplot as plt\n",
    "import scipy.stats\n",
    "from scipy import stats  \n",
    "import seaborn as sns\n",
    "import statsmodels.api as sm\n",
    "from statsmodels.formula.api import ols"
   ]
  },
  {
   "cell_type": "markdown",
   "id": "31594744-aa3a-47d3-b893-8531837e2e01",
   "metadata": {},
   "source": [
    "Create factors, design table and response vector (outcome)"
   ]
  },
  {
   "cell_type": "code",
   "execution_count": 2,
   "id": "c0707d7c-cacb-4fc4-8c53-5bc50b168711",
   "metadata": {},
   "outputs": [
    {
     "name": "stdout",
     "output_type": "stream",
     "text": [
      "   Chemical  Temp  Stirring  Outcome\n",
      "0        -1    -1        -1        5\n",
      "1         1    -1        -1       30\n",
      "2        -1     1        -1        6\n",
      "3         1     1        -1       33\n",
      "4        -1    -1         1        4\n",
      "5         1    -1         1        3\n",
      "6        -1     1         1        5\n",
      "7         1     1         1        4\n"
     ]
    }
   ],
   "source": [
    "#Factors\n",
    "C_ww=pd.Series([-1,1,-1,1,-1,+1,-1,+1],name='Chemical')\n",
    "T_ww=pd.Series([-1,-1,1,1,-1,-1,1,1], name='Temp')\n",
    "S_ww=pd.Series([-1,-1,-1,-1,1,1,1,1],name='Stirring')\n",
    "#Outcome vector\n",
    "O_ww=pd.Series([5,30,6,33,4,3,5,4],name='Outcome')\n",
    "\n",
    "#Combine design table of factors and outcome into a single dataframe\n",
    "DF_ww=pd.concat([C_ww,T_ww,S_ww,O_ww],axis='columns')\n",
    "print(DF_ww)"
   ]
  },
  {
   "cell_type": "markdown",
   "id": "b156c553-4102-4aa7-ae52-5c22823d0338",
   "metadata": {},
   "source": [
    "Create model and interpret"
   ]
  },
  {
   "cell_type": "code",
   "execution_count": 3,
   "id": "a5882ebb-9a5c-4278-83c9-9ecfa23e024f",
   "metadata": {},
   "outputs": [
    {
     "name": "stdout",
     "output_type": "stream",
     "text": [
      "                 Results: Ordinary least squares\n",
      "==================================================================\n",
      "Model:              OLS              Adj. R-squared:     nan      \n",
      "Dependent Variable: O_ww             AIC:                -487.6038\n",
      "Date:               2023-11-20 22:32 BIC:                -486.9683\n",
      "No. Observations:   8                Log-Likelihood:     251.80   \n",
      "Df Model:           7                F-statistic:        nan      \n",
      "Df Residuals:       0                Prob (F-statistic): nan      \n",
      "R-squared:          1.000            Scale:              inf      \n",
      "-------------------------------------------------------------------\n",
      "                   Coef.   Std.Err.     t     P>|t|  [0.025  0.975]\n",
      "-------------------------------------------------------------------\n",
      "Intercept         11.2500       inf   0.0000    nan     nan     nan\n",
      "C_ww               6.2500       inf   0.0000    nan     nan     nan\n",
      "T_ww               0.7500       inf   0.0000    nan     nan     nan\n",
      "S_ww              -7.2500       inf  -0.0000    nan     nan     nan\n",
      "C_ww:T_ww          0.2500       inf   0.0000    nan     nan     nan\n",
      "C_ww:S_ww         -6.7500       inf  -0.0000    nan     nan     nan\n",
      "T_ww:S_ww         -0.2500       inf  -0.0000    nan     nan     nan\n",
      "C_ww:T_ww:S_ww    -0.2500       inf  -0.0000    nan     nan     nan\n",
      "------------------------------------------------------------------\n",
      "Omnibus:              0.542         Durbin-Watson:           2.456\n",
      "Prob(Omnibus):        0.762         Jarque-Bera (JB):        0.462\n",
      "Skew:                 -0.438        Prob(JB):                0.794\n",
      "Kurtosis:             2.213         Condition No.:           1    \n",
      "==================================================================\n",
      "\n"
     ]
    },
    {
     "name": "stderr",
     "output_type": "stream",
     "text": [
      "C:\\Users\\bryan\\anaconda3\\lib\\site-packages\\scipy\\stats\\_stats_py.py:1769: UserWarning: kurtosistest only valid for n>=20 ... continuing anyway, n=8\n",
      "  warnings.warn(\"kurtosistest only valid for n>=20 ... continuing \"\n",
      "C:\\Users\\bryan\\anaconda3\\lib\\site-packages\\statsmodels\\regression\\linear_model.py:1671: RuntimeWarning: divide by zero encountered in double_scalars\n",
      "  return np.dot(wresid, wresid) / self.df_resid\n",
      "C:\\Users\\bryan\\anaconda3\\lib\\site-packages\\statsmodels\\regression\\linear_model.py:1749: RuntimeWarning: divide by zero encountered in true_divide\n",
      "  return 1 - (np.divide(self.nobs - self.k_constant, self.df_resid)\n",
      "C:\\Users\\bryan\\anaconda3\\lib\\site-packages\\statsmodels\\regression\\linear_model.py:1749: RuntimeWarning: invalid value encountered in double_scalars\n",
      "  return 1 - (np.divide(self.nobs - self.k_constant, self.df_resid)\n"
     ]
    }
   ],
   "source": [
    "model_ww=ols('O_ww~C_ww+T_ww+S_ww+C_ww*T_ww*S_ww',data=DF_ww)\n",
    "results_ww=model_ww.fit()\n",
    "print(results_ww.summary2())"
   ]
  },
  {
   "cell_type": "code",
   "execution_count": null,
   "id": "6749f270-4971-478d-8f7d-4cec4bb84f58",
   "metadata": {},
   "outputs": [],
   "source": []
  },
  {
   "cell_type": "code",
   "execution_count": null,
   "id": "e1c04de0-481d-4ca1-b978-7aa409780f9b",
   "metadata": {},
   "outputs": [],
   "source": []
  }
 ],
 "metadata": {
  "kernelspec": {
   "display_name": "Python 3 (ipykernel)",
   "language": "python",
   "name": "python3"
  },
  "language_info": {
   "codemirror_mode": {
    "name": "ipython",
    "version": 3
   },
   "file_extension": ".py",
   "mimetype": "text/x-python",
   "name": "python",
   "nbconvert_exporter": "python",
   "pygments_lexer": "ipython3",
   "version": "3.9.13"
  }
 },
 "nbformat": 4,
 "nbformat_minor": 5
}
