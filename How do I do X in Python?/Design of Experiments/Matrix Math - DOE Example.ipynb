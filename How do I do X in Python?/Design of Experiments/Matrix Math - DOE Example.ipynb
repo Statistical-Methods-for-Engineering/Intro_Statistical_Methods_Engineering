{
 "cells": [
  {
   "cell_type": "markdown",
   "id": "64068dc3-1a9d-4aba-8d68-5e936cbf600b",
   "metadata": {},
   "source": [
    "# Regression Matrix Math"
   ]
  },
  {
   "cell_type": "markdown",
   "id": "0cafab88-a831-45d2-8640-aa18b23656ed",
   "metadata": {},
   "source": [
    "## Importing Relevant Libraries!"
   ]
  },
  {
   "cell_type": "code",
   "execution_count": null,
   "id": "c92ef727-bf45-4160-96ab-e61f3d48efa4",
   "metadata": {},
   "outputs": [],
   "source": [
    "import numpy as np\n",
    "import pandas as pd\n",
    "import scipy as sy\n",
    "import statsmodels.stats.power as smp"
   ]
  },
  {
   "cell_type": "markdown",
   "id": "90f4a197-9500-44ea-9da0-c64fc653dab1",
   "metadata": {},
   "source": [
    "__Creating Datasets__"
   ]
  },
  {
   "cell_type": "code",
   "execution_count": null,
   "id": "47818a54-259c-4464-8120-6acadbf9479d",
   "metadata": {},
   "outputs": [],
   "source": [
    "Int=np.array([1,1,1,1])\n",
    "T=np.array([-1,1,-1,1])\n",
    "S=np.array([-1,-1,1,1])\n",
    "TS=np.array([1,-1,-1,1])\n",
    "Y=np.array([69,60,64,53])\n"
   ]
  },
  {
   "cell_type": "code",
   "execution_count": null,
   "id": "404ee948-30d6-4e94-97e6-68565821d77d",
   "metadata": {},
   "outputs": [],
   "source": [
    "XMatrix=np.array([[1,-1,-1,1],[1,1,-1,-1],[1,-1,1,-1],[1,1,1,1]])\n",
    "print(XMatrix)\n"
   ]
  },
  {
   "cell_type": "code",
   "execution_count": null,
   "id": "d6889249-9ca3-49e4-85e2-f1a9d7f29898",
   "metadata": {},
   "outputs": [],
   "source": [
    "# X transpose X\n",
    "XMatrix.T.dot(XMatrix)"
   ]
  },
  {
   "cell_type": "code",
   "execution_count": null,
   "id": "805f5fb5-9f44-49f4-ae79-b33caf9705c1",
   "metadata": {},
   "outputs": [],
   "source": [
    "# X transpose Y\n",
    "(XMatrix.T).dot(Y)"
   ]
  },
  {
   "cell_type": "code",
   "execution_count": null,
   "id": "c472e9c7-35c4-4fd4-9bcd-6494ca5825cc",
   "metadata": {},
   "outputs": [],
   "source": [
    "# inverse X transpose X\n",
    "np.linalg.inv(XMatrix.T.dot(XMatrix))"
   ]
  },
  {
   "cell_type": "code",
   "execution_count": null,
   "id": "8b185688-c357-4ee9-a6d0-3d8781fea5af",
   "metadata": {},
   "outputs": [],
   "source": [
    "# multiply inverse X transpose X with X transpose Y\n",
    "(np.linalg.inv(XMatrix.T.dot(XMatrix))).dot(XMatrix.T).dot(Y)"
   ]
  },
  {
   "cell_type": "code",
   "execution_count": null,
   "id": "b4ab3b9b-240e-4f7e-b922-a4e265aa9867",
   "metadata": {},
   "outputs": [],
   "source": [
    "model2=ols('Y~T+S+TS',data=DF)\n",
    "results2=model2.fit()\n",
    "print(results2.summary())\n",
    "\n",
    "fig.ax = plt.subplots(subplot_kw={\"projection\": \"3d\"})\n",
    "surfA = ax.plot_surface(Xa, Xb, Z,cmap=\"coolwarm\")\n",
    "\n"
   ]
  }
 ],
 "metadata": {
  "kernelspec": {
   "display_name": "Python 3 (ipykernel)",
   "language": "python",
   "name": "python3"
  },
  "language_info": {
   "codemirror_mode": {
    "name": "ipython",
    "version": 3
   },
   "file_extension": ".py",
   "mimetype": "text/x-python",
   "name": "python",
   "nbconvert_exporter": "python",
   "pygments_lexer": "ipython3",
   "version": "3.9.13"
  }
 },
 "nbformat": 4,
 "nbformat_minor": 5
}
