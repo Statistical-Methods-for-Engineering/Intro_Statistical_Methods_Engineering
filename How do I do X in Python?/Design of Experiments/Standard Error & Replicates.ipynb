{
 "cells": [
  {
   "cell_type": "markdown",
   "id": "faa71bf3-0a5b-4d52-b658-3d731b23f865",
   "metadata": {},
   "source": [
    "# STANDARD ERROR & REPLICATES"
   ]
  },
  {
   "cell_type": "markdown",
   "id": "a9ce5d41-1179-4040-a7ff-4efa138c6457",
   "metadata": {},
   "source": [
    "## Importing Relevant Libraries!"
   ]
  },
  {
   "cell_type": "code",
   "execution_count": 13,
   "id": "5bfd365e-568a-42ee-86b1-a186cb1a607f",
   "metadata": {},
   "outputs": [],
   "source": [
    "import numpy as np\n",
    "import pandas as pd\n",
    "import matplotlib.pyplot as plt\n",
    "import scipy.stats\n",
    "from scipy import stats  \n",
    "import seaborn as sns\n",
    "import statsmodels.api as sm\n",
    "from statsmodels.formula.api import ols"
   ]
  },
  {
   "cell_type": "markdown",
   "id": "31594744-aa3a-47d3-b893-8531837e2e01",
   "metadata": {},
   "source": [
    "__Create factors, design table and response vector (outcome)__"
   ]
  },
  {
   "cell_type": "code",
   "execution_count": 14,
   "id": "c0707d7c-cacb-4fc4-8c53-5bc50b168711",
   "metadata": {},
   "outputs": [
    {
     "name": "stdout",
     "output_type": "stream",
     "text": [
      "    Cat  Reac  yield\n",
      "0    -1    -1     28\n",
      "1     1    -1     36\n",
      "2    -1     1     18\n",
      "3     1     1     31\n",
      "4    -1    -1     25\n",
      "5     1    -1     32\n",
      "6    -1     1     19\n",
      "7     1     1     30\n",
      "8    -1    -1     27\n",
      "9     1    -1     32\n",
      "10   -1     1     23\n",
      "11    1     1     29\n"
     ]
    }
   ],
   "source": [
    "#Factors\n",
    "Cat=pd.Series([-1,1,-1,1,-1,+1,-1,+1,-1,1,-1,1],name='Cat')\n",
    "Reac=pd.Series([-1,-1,1,1,-1,-1,1,1,-1,-1,1,1], name='Reac')\n",
    "\n",
    "#Outcome vector\n",
    "y=pd.Series([28,36,18,31,25,32,19,30,27,32,23,29],name='yield')\n",
    "\n",
    "#Combine design table of factors and outcome into a single dataframe\n",
    "DF=pd.concat([Cat,Reac,y],axis='columns')\n",
    "print(DF)"
   ]
  },
  {
   "cell_type": "markdown",
   "id": "b156c553-4102-4aa7-ae52-5c22823d0338",
   "metadata": {},
   "source": [
    "__Create model and interpret__"
   ]
  },
  {
   "cell_type": "code",
   "execution_count": 15,
   "id": "a5882ebb-9a5c-4278-83c9-9ecfa23e024f",
   "metadata": {},
   "outputs": [
    {
     "name": "stdout",
     "output_type": "stream",
     "text": [
      "                 Results: Ordinary least squares\n",
      "=================================================================\n",
      "Model:              OLS              Adj. R-squared:     0.867   \n",
      "Dependent Variable: y                AIC:                53.5718 \n",
      "Date:               2023-10-13 17:33 BIC:                55.5115 \n",
      "No. Observations:   12               Log-Likelihood:     -22.786 \n",
      "Df Model:           3                F-statistic:        24.82   \n",
      "Df Residuals:       8                Prob (F-statistic): 0.000209\n",
      "R-squared:          0.903            Scale:              3.9167  \n",
      "------------------------------------------------------------------\n",
      "               Coef.   Std.Err.     t     P>|t|    [0.025   0.975]\n",
      "------------------------------------------------------------------\n",
      "Intercept     27.5000    0.5713  48.1354  0.0000  26.1826  28.8174\n",
      "Cat            4.1667    0.5713   7.2932  0.0001   2.8492   5.4841\n",
      "Reac          -2.5000    0.5713  -4.3759  0.0024  -3.8174  -1.1826\n",
      "Cat:Reac       0.8333    0.5713   1.4586  0.1828  -0.4841   2.1508\n",
      "-----------------------------------------------------------------\n",
      "Omnibus:              1.541        Durbin-Watson:           2.507\n",
      "Prob(Omnibus):        0.463        Jarque-Bera (JB):        1.153\n",
      "Skew:                 0.593        Prob(JB):                0.562\n",
      "Kurtosis:             2.051        Condition No.:           1    \n",
      "=================================================================\n",
      "\n"
     ]
    },
    {
     "name": "stderr",
     "output_type": "stream",
     "text": [
      "C:\\Users\\bryan\\anaconda3\\lib\\site-packages\\scipy\\stats\\_stats_py.py:1769: UserWarning: kurtosistest only valid for n>=20 ... continuing anyway, n=12\n",
      "  warnings.warn(\"kurtosistest only valid for n>=20 ... continuing \"\n"
     ]
    }
   ],
   "source": [
    "#Create model using OLS\n",
    "model=ols('y~Cat*Reac',data=DF)\n",
    "results=model.fit()\n",
    "print(results.summary2())"
   ]
  },
  {
   "cell_type": "code",
   "execution_count": 16,
   "id": "6749f270-4971-478d-8f7d-4cec4bb84f58",
   "metadata": {},
   "outputs": [
    {
     "name": "stdout",
     "output_type": "stream",
     "text": [
      "           df      sum_sq     mean_sq          F    PR(>F)\n",
      "Cat       1.0  208.333333  208.333333  53.191489  0.000084\n",
      "Reac      1.0   75.000000   75.000000  19.148936  0.002362\n",
      "Cat:Reac  1.0    8.333333    8.333333   2.127660  0.182776\n",
      "Residual  8.0   31.333333    3.916667        NaN       NaN\n"
     ]
    }
   ],
   "source": [
    "anova_results=sm.stats.anova_lm(results)\n",
    "print(anova_results)"
   ]
  },
  {
   "cell_type": "markdown",
   "id": "d4da887f-7bc0-41e3-8284-7bbe5f340b6d",
   "metadata": {},
   "source": [
    "__Refitting the Model__"
   ]
  },
  {
   "cell_type": "code",
   "execution_count": 17,
   "id": "37a19d93-1318-420a-b43c-50cebc6165f9",
   "metadata": {},
   "outputs": [
    {
     "name": "stdout",
     "output_type": "stream",
     "text": [
      "    0  1  2  3   4\n",
      "0  -1 -1 -1 -1  71\n",
      "1   1 -1 -1 -1  61\n",
      "2  -1  1 -1 -1  90\n",
      "3   1  1 -1 -1  82\n",
      "4  -1 -1  1 -1  68\n",
      "5   1 -1  1 -1  61\n",
      "6  -1  1  1 -1  87\n",
      "7   1  1  1 -1  80\n",
      "8  -1 -1 -1  1  61\n",
      "9   1 -1 -1  1  50\n",
      "10 -1  1 -1  1  89\n",
      "11  1  1 -1  1  83\n",
      "12 -1 -1  1  1  59\n",
      "13  1 -1  1  1  51\n",
      "14 -1  1  1  1  85\n",
      "15  1  1  1  1  78\n"
     ]
    }
   ],
   "source": [
    "#Factors\n",
    "A=pd.Series([-1,1,-1,1,-1,+1,-1,+1,-1,1,-1,1,-1,+1,-1,+1])\n",
    "B=pd.Series([-1,-1,1,1,-1,-1,1,1,-1,-1,1,1,-1,-1,1,1])\n",
    "C=pd.Series([-1,-1,-1,-1,1,1,1,1,-1,-1,-1,-1,1,1,1,1])\n",
    "D=pd.Series([-1,-1,-1,-1,-1,-1,-1,-1,1,1,1,1,1,1,1,1])\n",
    "\n",
    "#Outcome vector\n",
    "y=pd.Series([71,61,90,82,68,61,87,80,61,50,89,83,59,51,85,78])\n",
    "\n",
    "#Create Dataframe from vectors\n",
    "DF_Fit=pd.concat([A,B,C,D,y],axis='columns')\n",
    "print(DF_Fit)"
   ]
  },
  {
   "cell_type": "code",
   "execution_count": 18,
   "id": "f01f2cf5-9238-4831-b48c-d9315b1a374c",
   "metadata": {},
   "outputs": [
    {
     "name": "stdout",
     "output_type": "stream",
     "text": [
      "                 Results: Ordinary least squares\n",
      "==================================================================\n",
      "Model:              OLS              Adj. R-squared:     nan      \n",
      "Dependent Variable: y                AIC:                -909.5732\n",
      "Date:               2023-10-13 17:33 BIC:                -897.2118\n",
      "No. Observations:   16               Log-Likelihood:     470.79   \n",
      "Df Model:           15               F-statistic:        nan      \n",
      "Df Residuals:       0                Prob (F-statistic): nan      \n",
      "R-squared:          1.000            Scale:              inf      \n",
      "--------------------------------------------------------------------\n",
      "               Coef.    Std.Err.      t      P>|t|   [0.025   0.975]\n",
      "--------------------------------------------------------------------\n",
      "Intercept     72.2500        inf    0.0000     nan      nan      nan\n",
      "A             -4.0000        inf   -0.0000     nan      nan      nan\n",
      "B             12.0000        inf    0.0000     nan      nan      nan\n",
      "A:B            0.5000        inf    0.0000     nan      nan      nan\n",
      "C             -1.1250        inf   -0.0000     nan      nan      nan\n",
      "A:C            0.3750        inf    0.0000     nan      nan      nan\n",
      "B:C           -0.6250        inf   -0.0000     nan      nan      nan\n",
      "A:B:C         -0.3750        inf   -0.0000     nan      nan      nan\n",
      "D             -2.7500        inf   -0.0000     nan      nan      nan\n",
      "A:D            0.0000        inf    0.0000     nan      nan      nan\n",
      "B:D            2.2500        inf    0.0000     nan      nan      nan\n",
      "A:B:D          0.2500        inf    0.0000     nan      nan      nan\n",
      "C:D           -0.1250        inf   -0.0000     nan      nan      nan\n",
      "A:C:D         -0.1250        inf   -0.0000     nan      nan      nan\n",
      "B:C:D         -0.3750        inf   -0.0000     nan      nan      nan\n",
      "A:B:C:D       -0.1250        inf   -0.0000     nan      nan      nan\n",
      "------------------------------------------------------------------\n",
      "Omnibus:               28.489       Durbin-Watson:          0.654 \n",
      "Prob(Omnibus):         0.000        Jarque-Bera (JB):       44.063\n",
      "Skew:                  -2.502       Prob(JB):               0.000 \n",
      "Kurtosis:              9.408        Condition No.:          1     \n",
      "==================================================================\n",
      "\n"
     ]
    },
    {
     "name": "stderr",
     "output_type": "stream",
     "text": [
      "C:\\Users\\bryan\\anaconda3\\lib\\site-packages\\scipy\\stats\\_stats_py.py:1769: UserWarning: kurtosistest only valid for n>=20 ... continuing anyway, n=16\n",
      "  warnings.warn(\"kurtosistest only valid for n>=20 ... continuing \"\n",
      "C:\\Users\\bryan\\anaconda3\\lib\\site-packages\\statsmodels\\regression\\linear_model.py:1671: RuntimeWarning: divide by zero encountered in double_scalars\n",
      "  return np.dot(wresid, wresid) / self.df_resid\n",
      "C:\\Users\\bryan\\anaconda3\\lib\\site-packages\\statsmodels\\base\\model.py:1512: RuntimeWarning: invalid value encountered in multiply\n",
      "  cov_p = self.normalized_cov_params * scale\n",
      "C:\\Users\\bryan\\anaconda3\\lib\\site-packages\\statsmodels\\regression\\linear_model.py:1749: RuntimeWarning: divide by zero encountered in true_divide\n",
      "  return 1 - (np.divide(self.nobs - self.k_constant, self.df_resid)\n",
      "C:\\Users\\bryan\\anaconda3\\lib\\site-packages\\statsmodels\\regression\\linear_model.py:1749: RuntimeWarning: invalid value encountered in double_scalars\n",
      "  return 1 - (np.divide(self.nobs - self.k_constant, self.df_resid)\n"
     ]
    }
   ],
   "source": [
    "#Create model using OLS\n",
    "\n",
    "model_Fit=ols('y~A*B*C*D',data=DF_Fit)\n",
    "results_Fit=model_Fit.fit()\n",
    "print(results_Fit.summary2())"
   ]
  },
  {
   "cell_type": "code",
   "execution_count": 19,
   "id": "a7519f70-8715-4363-bf8a-3c61e59d1ef5",
   "metadata": {},
   "outputs": [],
   "source": [
    "#Just take A,B,C,D and B*D because they are the most significant"
   ]
  },
  {
   "cell_type": "code",
   "execution_count": 20,
   "id": "3271a82f-4de2-4cbb-8602-683dfd721853",
   "metadata": {},
   "outputs": [
    {
     "name": "stdout",
     "output_type": "stream",
     "text": [
      "                 Results: Ordinary least squares\n",
      "=================================================================\n",
      "Model:              OLS              Adj. R-squared:     0.981   \n",
      "Dependent Variable: y                AIC:                69.6616 \n",
      "Date:               2023-10-13 17:33 BIC:                73.5245 \n",
      "No. Observations:   16               Log-Likelihood:     -29.831 \n",
      "Df Model:           4                F-statistic:        194.8   \n",
      "Df Residuals:       11               Prob (F-statistic): 3.97e-10\n",
      "R-squared:          0.986            Scale:              3.5455  \n",
      "------------------------------------------------------------------\n",
      "              Coef.   Std.Err.     t      P>|t|    [0.025   0.975]\n",
      "------------------------------------------------------------------\n",
      "Intercept    72.2500    0.4707  153.4836  0.0000  71.2139  73.2861\n",
      "A            -4.0000    0.4707   -8.4974  0.0000  -5.0361  -2.9639\n",
      "B            12.0000    0.4707   25.4921  0.0000  10.9639  13.0361\n",
      "D            -2.7500    0.4707   -5.8419  0.0001  -3.7861  -1.7139\n",
      "B:D           2.2500    0.4707    4.7798  0.0006   1.2139   3.2861\n",
      "-----------------------------------------------------------------\n",
      "Omnibus:              0.357        Durbin-Watson:           1.583\n",
      "Prob(Omnibus):        0.837        Jarque-Bera (JB):        0.487\n",
      "Skew:                 0.246        Prob(JB):                0.784\n",
      "Kurtosis:             2.302        Condition No.:           1    \n",
      "=================================================================\n",
      "\n"
     ]
    },
    {
     "name": "stderr",
     "output_type": "stream",
     "text": [
      "C:\\Users\\bryan\\anaconda3\\lib\\site-packages\\scipy\\stats\\_stats_py.py:1769: UserWarning: kurtosistest only valid for n>=20 ... continuing anyway, n=16\n",
      "  warnings.warn(\"kurtosistest only valid for n>=20 ... continuing \"\n"
     ]
    }
   ],
   "source": [
    "model_Refit=ols('y~A+B+D+B*D',data=DF_Fit)\n",
    "results_Refit=model_Refit.fit()\n",
    "print(results_Refit.summary2())"
   ]
  },
  {
   "cell_type": "code",
   "execution_count": 21,
   "id": "2ccce538-79bc-4de5-9e37-0c69084b6aef",
   "metadata": {},
   "outputs": [
    {
     "name": "stdout",
     "output_type": "stream",
     "text": [
      "            df  sum_sq      mean_sq           F        PR(>F)\n",
      "A          1.0   256.0   256.000000   72.205128  3.664738e-06\n",
      "B          1.0  2304.0  2304.000000  649.846154  3.904591e-11\n",
      "D          1.0   121.0   121.000000   34.128205  1.122011e-04\n",
      "B:D        1.0    81.0    81.000000   22.846154  5.716301e-04\n",
      "Residual  11.0    39.0     3.545455         NaN           NaN\n"
     ]
    }
   ],
   "source": [
    "#Generate ANOVA Results\n",
    "anova_results2 = sm.stats.anova_lm(results_Refit)\n",
    "print(anova_results2)"
   ]
  },
  {
   "cell_type": "code",
   "execution_count": null,
   "id": "badc584c-b29d-4c2b-a6b1-83a06b9a0d71",
   "metadata": {},
   "outputs": [],
   "source": []
  },
  {
   "cell_type": "code",
   "execution_count": null,
   "id": "0fb230d0-963f-4b6c-a21a-fe1549003db3",
   "metadata": {},
   "outputs": [],
   "source": []
  }
 ],
 "metadata": {
  "kernelspec": {
   "display_name": "Python 3 (ipykernel)",
   "language": "python",
   "name": "python3"
  },
  "language_info": {
   "codemirror_mode": {
    "name": "ipython",
    "version": 3
   },
   "file_extension": ".py",
   "mimetype": "text/x-python",
   "name": "python",
   "nbconvert_exporter": "python",
   "pygments_lexer": "ipython3",
   "version": "3.9.13"
  }
 },
 "nbformat": 4,
 "nbformat_minor": 5
}
